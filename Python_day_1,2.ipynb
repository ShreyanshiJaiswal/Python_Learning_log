{
  "nbformat": 4,
  "nbformat_minor": 0,
  "metadata": {
    "colab": {
      "provenance": [],
      "authorship_tag": "ABX9TyObHS6eOVZT9zaYociNYUxF",
      "include_colab_link": true
    },
    "kernelspec": {
      "name": "python3",
      "display_name": "Python 3"
    },
    "language_info": {
      "name": "python"
    }
  },
  "cells": [
    {
      "cell_type": "markdown",
      "metadata": {
        "id": "view-in-github",
        "colab_type": "text"
      },
      "source": [
        "<a href=\"https://colab.research.google.com/github/ShreyanshiJaiswal/Python_Learning_log/blob/main/Python_day_1%2C2.ipynb\" target=\"_parent\"><img src=\"https://colab.research.google.com/assets/colab-badge.svg\" alt=\"Open In Colab\"/></a>"
      ]
    },
    {
      "cell_type": "code",
      "execution_count": null,
      "metadata": {
        "colab": {
          "base_uri": "https://localhost:8080/"
        },
        "id": "xO70XZrw3hc8",
        "outputId": "09ec77f9-b4a3-49db-f635-7defa2f72d87"
      },
      "outputs": [
        {
          "output_type": "stream",
          "name": "stdout",
          "text": [
            "hello world\n",
            "<class 'str'>\n",
            "<class 'int'>\n",
            "<class 'float'>\n",
            "<class 'bool'>\n"
          ]
        }
      ],
      "source": [
        "print (\"hello world\");\n",
        "\n",
        "\"\"\"Declaring Variables\"\"\"\n",
        "\n",
        "a = \"Shreyanshi Jaiswal\"\n",
        "b = 25\n",
        "c = 5.3\n",
        "d = False\n",
        "print(type(a))\n",
        "print(type(b))\n",
        "print(type(c))\n",
        "print(type(d));"
      ]
    },
    {
      "cell_type": "markdown",
      "source": [
        "Here i learnt how to declare variables for each type"
      ],
      "metadata": {
        "id": "PbUiNSH5Jstn"
      }
    },
    {
      "cell_type": "code",
      "source": [
        "\"\"\"a = \"10\"\n",
        "   b = 10\n",
        "   print(a+b);------- this will through an error \"\"\"\n",
        "\n",
        "a = \"10\"\n",
        "b = 10\n",
        "print(a+str(b));"
      ],
      "metadata": {
        "colab": {
          "base_uri": "https://localhost:8080/"
        },
        "id": "RKPihKxvJxrX",
        "outputId": "77b24491-d92a-4e20-b40f-ae4e070e87bd"
      },
      "execution_count": null,
      "outputs": [
        {
          "output_type": "stream",
          "name": "stdout",
          "text": [
            "1010\n"
          ]
        }
      ]
    },
    {
      "cell_type": "markdown",
      "source": [
        "Since we are trying to add a string and integer value it will firstly throw an error and we have to make sure that we have to convert the string into integer first to add a and b"
      ],
      "metadata": {
        "id": "cgnz155TKafF"
      }
    },
    {
      "cell_type": "code",
      "source": [
        "\"\"\"Mini Challenge 1!\n",
        "\n",
        "Takes user input (e.g., name and age),\n",
        "Prints their data type using type(),\n",
        "Converts the age to integer, and\n",
        "Prints: \"Hello <name>, you are <age> years old.\"\n",
        "\"\"\"\n",
        "\n",
        "name = input(\"Enter your name: \")\n",
        "age_str = input(\"Enter your age: \")\n",
        "\n",
        "print(type(name))\n",
        "print(type(age_str))\n",
        "\n",
        "age_int = int(age_str)\n",
        "\n",
        "print(\"Hello \" + name + \", you are \" + str(age_int) + \" years old.\")"
      ],
      "metadata": {
        "colab": {
          "base_uri": "https://localhost:8080/"
        },
        "id": "7x2s062QKrF7",
        "outputId": "de62426a-cf0a-4554-dec5-1f38230b8e87"
      },
      "execution_count": null,
      "outputs": [
        {
          "output_type": "stream",
          "name": "stdout",
          "text": [
            "Enter your name: Shreya Jaiswal\n",
            "Enter your age: 31\n",
            "<class 'str'>\n",
            "<class 'str'>\n",
            "Hello Shreya Jaiswal, you are 31 years old.\n"
          ]
        }
      ]
    },
    {
      "cell_type": "code",
      "source": [
        "\"\"\"Mini Challenge 2:\n",
        "\n",
        "Take two inputs from the user:\n",
        "The first input is a number as a string.\n",
        "The second input is another number as a string.\n",
        "Convert both to integers, add them, and print the result as:\n",
        "\"Sum of the two numbers is <sum>\" \"\"\"\n",
        "\n",
        "firstnum_str = input(\"Enter first number: \")\n",
        "secondnum_str = input(\"Enter second number: \")\n",
        "\n",
        "firstnum_int = int(firstnum_str)\n",
        "secondnum_int = int(secondnum_str)\n",
        "\n",
        "print(\"Sum of the two numbers is \" + str(firstnum_int + secondnum_int));"
      ],
      "metadata": {
        "colab": {
          "base_uri": "https://localhost:8080/"
        },
        "id": "U16-8zIEQDRz",
        "outputId": "1d10ffbe-fbe4-4de6-a7db-34481b342248"
      },
      "execution_count": null,
      "outputs": [
        {
          "output_type": "stream",
          "name": "stdout",
          "text": [
            "Enter first number: 34\n",
            "Enter second number: 90\n",
            "Sum of the two numbers is 124\n"
          ]
        }
      ]
    },
    {
      "cell_type": "code",
      "source": [
        "\"\"\" Mini Challenge 3:\n",
        "\n",
        "Ask for the user's height in centimeters (input as a string).\n",
        "Convert it to a float.\n",
        "Convert it to meters (divide by 100).\n",
        "Print: \"Your height is <height_in_meters> meters\" \"\"\"\n",
        "\n",
        "height_str = input(\"Enter your height in cm: \")\n",
        "height_float =float(height_str)\n",
        "height_meters = height_float/100\n",
        "print(\"Your height is \" + str(height_meters) + \" meters\");"
      ],
      "metadata": {
        "colab": {
          "base_uri": "https://localhost:8080/"
        },
        "id": "98XOjnGaRXNg",
        "outputId": "a5ecc4ed-516b-46da-f8cb-c645d6fb9b3f"
      },
      "execution_count": null,
      "outputs": [
        {
          "output_type": "stream",
          "name": "stdout",
          "text": [
            "Enter your height in cm: 990\n",
            "Your height is 9.9 meters\n"
          ]
        }
      ]
    },
    {
      "cell_type": "markdown",
      "source": [
        "#DAY 2 OPERATORS IN PYTHON"
      ],
      "metadata": {
        "id": "UUiDlyR2vLtk"
      }
    },
    {
      "cell_type": "code",
      "source": [
        "# 🔢 Arithmetic Operator Challenge\n",
        "# Take two numbers from the user as input.\n",
        "# Print their sum, difference, product, and division result.\n",
        "# Also print their floor division and modulus.\n",
        "# Example output:\n",
        "# Sum: 15\n",
        "# Difference: 5\n",
        "# Product: 50\n",
        "# Division: 2.5\n",
        "# Floor Division: 2\n",
        "# Modulus: 0\n",
        "\n",
        "first_num = input(\"Enter First Number: \")\n",
        "second_num = input(\"Enter Second Number: \")\n",
        "print(\"Sum: \" + str(int(first_num)+int(second_num)))\n",
        "print(\"Difference: \" + str(int(first_num)-int(second_num)))\n",
        "print(\"Product: \" + str(int(first_num)*int(second_num)))\n",
        "print(\"Division: \" + str(int(first_num)/int(second_num)))\n",
        "print(\"Floor Division: \" + str(int(first_num)//int(second_num)))\n",
        "print(\"Modulus: \" + str(int(first_num)%int(second_num)));"
      ],
      "metadata": {
        "colab": {
          "base_uri": "https://localhost:8080/"
        },
        "id": "_fM8o7cRXeH3",
        "outputId": "c98de215-628d-4241-e582-f50452fd28d1"
      },
      "execution_count": null,
      "outputs": [
        {
          "output_type": "stream",
          "name": "stdout",
          "text": [
            "Enter First Number: 2\n",
            "Enter Second Number: 3\n",
            "Sum: 5\n",
            "Difference: -1\n",
            "Product: 6\n",
            "Division: 0.6666666666666666\n",
            "Floor Division: 0\n",
            "Modulus: 2\n"
          ]
        }
      ]
    },
    {
      "cell_type": "code",
      "source": [
        "# 🔢 Arithmetic Operator Challenge (No if-else)\n",
        "# Ask the user to enter two numbers.\n",
        "# Store them as variables num1 and num2.\n",
        "# Print the results of:\n",
        "# - num1 + num2\n",
        "# - num1 - num2\n",
        "# - num1 * num2\n",
        "# - num1 / num2\n",
        "# - num1 // num2\n",
        "# - num1 % num2\n",
        "# - num1 raised to the power of num2 (use **)\n",
        "\n",
        "num1 = int(input(\"Enter First Number: \"))\n",
        "num2 = int(input(\"Enter Second Number: \"))\n",
        "print(num1 + num2)\n",
        "print(num1 - num2)\n",
        "print(num1 * num2)\n",
        "print(num1 / num2)\n",
        "print(num1 // num2)\n",
        "print(num1 % num2)\n",
        "print(num1 ** num2);\n"
      ],
      "metadata": {
        "colab": {
          "base_uri": "https://localhost:8080/"
        },
        "id": "KB84ZgywYxGK",
        "outputId": "d1374cc7-0260-4286-d986-58250ac43051"
      },
      "execution_count": null,
      "outputs": [
        {
          "output_type": "stream",
          "name": "stdout",
          "text": [
            "Enter First Number: 4\n",
            "Enter Second Number: 8\n",
            "12\n",
            "-4\n",
            "32\n",
            "0.5\n",
            "0\n",
            "4\n",
            "65536\n"
          ]
        }
      ]
    },
    {
      "cell_type": "code",
      "source": [
        "# 🟰 Comparison Operator Challenge (No if-else)\n",
        "# Ask the user to enter two numbers: x and y.\n",
        "# Print the result of each of these comparisons:\n",
        "# - x == y\n",
        "# - x != y\n",
        "# - x > y\n",
        "# - x < y\n",
        "# - x >= y\n",
        "# - x <= y\n",
        "# Each print statement will return either True or False.\n",
        "\n",
        "x = int(input(\"Enter First Number: \"))\n",
        "y = int(input(\"Enter Second Number: \"))\n",
        "print(x == y)\n",
        "print(x != y)\n",
        "print(x > y)\n",
        "print(x < y)\n",
        "print(x >= y)\n",
        "print(x<=y);"
      ],
      "metadata": {
        "colab": {
          "base_uri": "https://localhost:8080/"
        },
        "id": "ZKJ6dVF7Zu-5",
        "outputId": "2d33b9ab-eb24-4adb-bf40-a12dd340771f"
      },
      "execution_count": null,
      "outputs": [
        {
          "output_type": "stream",
          "name": "stdout",
          "text": [
            "Enter First Number: 84\n",
            "Enter Second Number: 42\n",
            "False\n",
            "True\n",
            "True\n",
            "False\n",
            "True\n",
            "False\n"
          ]
        }
      ]
    },
    {
      "cell_type": "code",
      "source": [
        "# 🔁 Logical Operator Challenge (No if-else)\n",
        "# Create three boolean variables:\n",
        "# a = True\n",
        "# b = False\n",
        "# c = True\n",
        "# Print the results of the following:\n",
        "# - a and b\n",
        "# - a or b\n",
        "# - not c\n",
        "# - a and c\n",
        "# - b or c\n",
        "\n",
        "a = True\n",
        "b = False\n",
        "c = True\n",
        "print(a and b)\n",
        "print(a or b)\n",
        "print(not c)\n",
        "print(a and c)\n",
        "print(b or c);\n"
      ],
      "metadata": {
        "colab": {
          "base_uri": "https://localhost:8080/"
        },
        "id": "Qyo14SRuanvA",
        "outputId": "8b76ee25-2dd5-4c6a-977c-59f3f9166513"
      },
      "execution_count": null,
      "outputs": [
        {
          "output_type": "stream",
          "name": "stdout",
          "text": [
            "False\n",
            "True\n",
            "False\n",
            "True\n",
            "True\n"
          ]
        }
      ]
    },
    {
      "cell_type": "code",
      "source": [
        "# ✍️ Assignment Operator Challenge (No if-else)\n",
        "# Start with a variable count = 5\n",
        "# Use the following operations step by step:\n",
        "# - count += 3\n",
        "# - count *= 2\n",
        "# - count -= 4\n",
        "# - count //= 2\n",
        "# After all steps, print the final value of count.\n",
        "\n",
        "count = 5\n",
        "count += 3\n",
        "count *= 2\n",
        "count -= 4\n",
        "count //= 2\n",
        "print(count);"
      ],
      "metadata": {
        "colab": {
          "base_uri": "https://localhost:8080/"
        },
        "id": "TnhAg936bdBx",
        "outputId": "feb0cac1-181b-4ebb-f810-ba4e97f4c51f"
      },
      "execution_count": null,
      "outputs": [
        {
          "output_type": "stream",
          "name": "stdout",
          "text": [
            "6\n"
          ]
        }
      ]
    }
  ]
}