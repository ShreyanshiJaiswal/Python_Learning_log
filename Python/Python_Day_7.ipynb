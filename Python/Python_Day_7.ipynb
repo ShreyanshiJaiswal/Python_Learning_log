{
  "nbformat": 4,
  "nbformat_minor": 0,
  "metadata": {
    "colab": {
      "provenance": [],
      "authorship_tag": "ABX9TyOTixtFFldQcvcNgsRni3Pu",
      "include_colab_link": true
    },
    "kernelspec": {
      "name": "python3",
      "display_name": "Python 3"
    },
    "language_info": {
      "name": "python"
    }
  },
  "cells": [
    {
      "cell_type": "markdown",
      "metadata": {
        "id": "view-in-github",
        "colab_type": "text"
      },
      "source": [
        "<a href=\"https://colab.research.google.com/github/ShreyanshiJaiswal/Python_Learning_log/blob/main/Python/Python_Day_7.ipynb\" target=\"_parent\"><img src=\"https://colab.research.google.com/assets/colab-badge.svg\" alt=\"Open In Colab\"/></a>"
      ]
    },
    {
      "cell_type": "code",
      "execution_count": null,
      "metadata": {
        "id": "VhFsQ9GBFSoA"
      },
      "outputs": [],
      "source": [
        "# Day 7 Practice Questions - Python Libraries\n",
        "\n",
        "# ✅ math module\n",
        "# 1. Print the square root of 64.\n",
        "# 2. Print the value of pi.\n",
        "# 3. Find 2 raised to the power 5.\n",
        "\n",
        "# ✅ datetime module\n",
        "# 4. Print today’s date.\n",
        "# 5. Print the current year only.\n",
        "# 6. Print the current time in hours and minutes.\n",
        "\n",
        "# ✅ random module\n",
        "# 7. Print a random number between 100 and 200.\n",
        "# 8. Pick a random item from a list of your favorite fruits.\n",
        "# 9. Simulate a dice roll (random number between 1 and 6).\n",
        "\n",
        "# ✅ os module\n",
        "# 10. Print the current working directory of your computer.\n",
        "# 11. List all files and folders in the current folder.\n",
        "\n",
        "# ✅ sys module\n",
        "# 12. Print the Python version you are using.\n",
        "# 13. Print the list of arguments passed to the Python script using sys.argv."
      ]
    },
    {
      "cell_type": "code",
      "source": [
        "import math\n",
        "m = math.sqrt(64)\n",
        "print(m);"
      ],
      "metadata": {
        "colab": {
          "base_uri": "https://localhost:8080/"
        },
        "id": "lW-BvjDkGS5N",
        "outputId": "e6e047ef-263f-4a72-c87d-8f69ed8a385f"
      },
      "execution_count": null,
      "outputs": [
        {
          "output_type": "stream",
          "name": "stdout",
          "text": [
            "8.0\n"
          ]
        }
      ]
    },
    {
      "cell_type": "code",
      "source": [
        "import math\n",
        "p =math.pi\n",
        "print(p);"
      ],
      "metadata": {
        "colab": {
          "base_uri": "https://localhost:8080/"
        },
        "id": "Z-jfZiFUGorC",
        "outputId": "92e56348-aec4-4049-fbcd-ae83fa22faf7"
      },
      "execution_count": null,
      "outputs": [
        {
          "output_type": "stream",
          "name": "stdout",
          "text": [
            "3.141592653589793\n"
          ]
        }
      ]
    },
    {
      "cell_type": "code",
      "source": [
        "import math\n",
        "power =math.pow(2,5)\n",
        "print(power);"
      ],
      "metadata": {
        "colab": {
          "base_uri": "https://localhost:8080/"
        },
        "id": "9xjBa4AyGyOJ",
        "outputId": "07ee47dd-c29a-4679-ebc0-c0b03509e8a3"
      },
      "execution_count": null,
      "outputs": [
        {
          "output_type": "stream",
          "name": "stdout",
          "text": [
            "32.0\n"
          ]
        }
      ]
    },
    {
      "cell_type": "code",
      "source": [
        "import datetime\n",
        "today = datetime.date.today()\n",
        "print(today);"
      ],
      "metadata": {
        "colab": {
          "base_uri": "https://localhost:8080/"
        },
        "id": "nVjELr2oG_Es",
        "outputId": "bca8a4a0-4a00-4844-a8ca-a9e6877039e5"
      },
      "execution_count": null,
      "outputs": [
        {
          "output_type": "stream",
          "name": "stdout",
          "text": [
            "2025-08-07\n"
          ]
        }
      ]
    },
    {
      "cell_type": "code",
      "source": [
        "import datetime\n",
        "year = datetime.date.today().year\n",
        "print(year);"
      ],
      "metadata": {
        "id": "3ILvWPvIHcSA"
      },
      "execution_count": null,
      "outputs": []
    },
    {
      "cell_type": "code",
      "source": [
        "import datetime\n",
        "current_time = datetime.datetime.now().strftime(\"%H:%M\")\n",
        "print(current_time)"
      ],
      "metadata": {
        "colab": {
          "base_uri": "https://localhost:8080/"
        },
        "id": "6--ssqwsI4MD",
        "outputId": "0bf7cd74-35ee-42f5-843b-c36804e83eee"
      },
      "execution_count": null,
      "outputs": [
        {
          "output_type": "stream",
          "name": "stdout",
          "text": [
            "15:28\n"
          ]
        }
      ]
    },
    {
      "cell_type": "code",
      "source": [
        "import random\n",
        "print(random.randint(100,200));"
      ],
      "metadata": {
        "colab": {
          "base_uri": "https://localhost:8080/"
        },
        "id": "6vevQ2nMKTje",
        "outputId": "857755a8-ca2f-4369-b40c-21c15a03aed3"
      },
      "execution_count": null,
      "outputs": [
        {
          "output_type": "stream",
          "name": "stdout",
          "text": [
            "155\n"
          ]
        }
      ]
    },
    {
      "cell_type": "code",
      "source": [
        "import random\n",
        "print(random.choice(['Apple','Guava','Pineapple','Pomegrante','Grapes','Mango']));"
      ],
      "metadata": {
        "colab": {
          "base_uri": "https://localhost:8080/"
        },
        "id": "9QztgMXLLI4l",
        "outputId": "66c266b2-8e8e-44ad-a71a-fe793fda6191"
      },
      "execution_count": null,
      "outputs": [
        {
          "output_type": "stream",
          "name": "stdout",
          "text": [
            "Pineapple\n"
          ]
        }
      ]
    },
    {
      "cell_type": "code",
      "source": [
        "import random\n",
        "print(random.randint(1,6));"
      ],
      "metadata": {
        "colab": {
          "base_uri": "https://localhost:8080/"
        },
        "id": "Ry9UP0KXLmJA",
        "outputId": "8aa9fcd9-34c2-41ad-a275-4ddd061e3284"
      },
      "execution_count": null,
      "outputs": [
        {
          "output_type": "stream",
          "name": "stdout",
          "text": [
            "4\n"
          ]
        }
      ]
    },
    {
      "cell_type": "code",
      "source": [
        "import os\n",
        "print(os.getcwd());"
      ],
      "metadata": {
        "colab": {
          "base_uri": "https://localhost:8080/"
        },
        "id": "FRPWNYrGMCNq",
        "outputId": "9c1eaff8-097b-412f-81f4-bc4b7b2a7fb9"
      },
      "execution_count": null,
      "outputs": [
        {
          "output_type": "stream",
          "name": "stdout",
          "text": [
            "/content\n"
          ]
        }
      ]
    },
    {
      "cell_type": "code",
      "source": [
        "import os\n",
        "print(os.listdir());"
      ],
      "metadata": {
        "colab": {
          "base_uri": "https://localhost:8080/"
        },
        "id": "lG1hVBt3OeHD",
        "outputId": "57763076-d6fe-4524-e13b-5bbaf678fc07"
      },
      "execution_count": null,
      "outputs": [
        {
          "output_type": "stream",
          "name": "stdout",
          "text": [
            "['.config', 'sample_data']\n"
          ]
        }
      ]
    },
    {
      "cell_type": "code",
      "source": [
        "import sys\n",
        "print(sys.version);"
      ],
      "metadata": {
        "colab": {
          "base_uri": "https://localhost:8080/"
        },
        "id": "lgRuBbyFOpyk",
        "outputId": "0d7d5252-aad2-450d-b95a-2854a268d60d"
      },
      "execution_count": null,
      "outputs": [
        {
          "output_type": "stream",
          "name": "stdout",
          "text": [
            "3.11.13 (main, Jun  4 2025, 08:57:29) [GCC 11.4.0]\n"
          ]
        }
      ]
    },
    {
      "cell_type": "code",
      "source": [
        "import sys\n",
        "print(sys.argv);"
      ],
      "metadata": {
        "colab": {
          "base_uri": "https://localhost:8080/"
        },
        "id": "xZu7Dw0CO13Z",
        "outputId": "f20d9770-3d61-4b19-82c8-427fabbd497e"
      },
      "execution_count": null,
      "outputs": [
        {
          "output_type": "stream",
          "name": "stdout",
          "text": [
            "['/usr/local/lib/python3.11/dist-packages/colab_kernel_launcher.py', '-f', '/root/.local/share/jupyter/runtime/kernel-e7b07e16-e64c-4aa0-93f6-f3dbafd24588.json']\n"
          ]
        }
      ]
    }
  ]
}