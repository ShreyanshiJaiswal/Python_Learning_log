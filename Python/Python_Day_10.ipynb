{
  "nbformat": 4,
  "nbformat_minor": 0,
  "metadata": {
    "colab": {
      "provenance": [],
      "authorship_tag": "ABX9TyMP2NF+VKWup1qeYFvNIMf+",
      "include_colab_link": true
    },
    "kernelspec": {
      "name": "python3",
      "display_name": "Python 3"
    },
    "language_info": {
      "name": "python"
    }
  },
  "cells": [
    {
      "cell_type": "markdown",
      "metadata": {
        "id": "view-in-github",
        "colab_type": "text"
      },
      "source": [
        "<a href=\"https://colab.research.google.com/github/ShreyanshiJaiswal/Python_Learning_log/blob/main/Python/Python_Day_10.ipynb\" target=\"_parent\"><img src=\"https://colab.research.google.com/assets/colab-badge.svg\" alt=\"Open In Colab\"/></a>"
      ]
    },
    {
      "cell_type": "code",
      "execution_count": null,
      "metadata": {
        "id": "uFiE8Qm_xGvX"
      },
      "outputs": [],
      "source": [
        "# Q1: Create a set with your 5 favorite fruits and print it.\n",
        "\n",
        "# Q2: Create a set of numbers from 1 to 5, and add the number 6 to it.\n",
        "\n",
        "# Q3: Create a set with some colors. Try adding a duplicate color and print the set to see what happens.\n",
        "\n",
        "# Q4: Remove an element from a set using the remove() method.\n",
        "\n",
        "# Q5: Remove an element from a set using the discard() method (try discarding an element that is not in the set).\n",
        "\n",
        "# Q6: Create two sets:\n",
        "#     set1 = {1, 2, 3, 4}\n",
        "#     set2 = {3, 4, 5, 6}\n",
        "#     Find the union of these two sets.\n",
        "\n",
        "# Q7: Find the intersection of set1 and set2 from Q6.\n",
        "\n",
        "# Q8: Find the difference between set1 and set2 (elements in set1 but not in set2).\n",
        "\n",
        "# Q9: Find the symmetric difference between set1 and set2 (elements in either set, but not in both).\n",
        "\n",
        "# Q10: Check if set1 is a subset of set2.\n",
        "\n",
        "# Q11: Check if set1 is a superset of set2.\n",
        "\n",
        "# Q12: Create an empty set and check its type.\n",
        "\n",
        "# Q13: Convert the list [1, 2, 2, 3, 4, 4, 5] into a set and print it (notice what happens to duplicates).\n",
        "\n",
        "# Q14: Use a for loop to print each element in a set.\n",
        "\n",
        "# Q15: Create two sets:\n",
        "#      even_numbers = {2, 4, 6, 8}\n",
        "#      prime_numbers = {2, 3, 5, 7}\n",
        "#      Find the common numbers between the two sets."
      ]
    },
    {
      "cell_type": "code",
      "source": [
        "fruits={\"Apple\",\"Banana\",\"Mango\",\"Grapes\",\"Orange\"}\n",
        "print(fruits)"
      ],
      "metadata": {
        "colab": {
          "base_uri": "https://localhost:8080/"
        },
        "id": "r99oXG5txOeY",
        "outputId": "7c1ed0e6-72ba-45a1-9306-a674436afc32"
      },
      "execution_count": null,
      "outputs": [
        {
          "output_type": "stream",
          "name": "stdout",
          "text": [
            "{'Apple', 'Grapes', 'Banana', 'Mango', 'Orange'}\n"
          ]
        }
      ]
    },
    {
      "cell_type": "code",
      "source": [
        "numbers={1,2,3,4,5}\n",
        "numbers.add(6)\n",
        "print(numbers)"
      ],
      "metadata": {
        "colab": {
          "base_uri": "https://localhost:8080/"
        },
        "id": "CZPjVNk0xWXf",
        "outputId": "f29eff27-2f39-445a-911c-06f47d5813d5"
      },
      "execution_count": null,
      "outputs": [
        {
          "output_type": "stream",
          "name": "stdout",
          "text": [
            "{1, 2, 3, 4, 5, 6}\n"
          ]
        }
      ]
    },
    {
      "cell_type": "code",
      "source": [
        "colours={\"Red\",\"Green\",\"Blue\",\"Yellow\"}\n",
        "colours.add(\"Red\")\n",
        "print(colours)"
      ],
      "metadata": {
        "colab": {
          "base_uri": "https://localhost:8080/"
        },
        "id": "y3DfXPdlxobl",
        "outputId": "07d4acff-3ee6-4a10-af63-6a8ea1bc7507"
      },
      "execution_count": null,
      "outputs": [
        {
          "output_type": "stream",
          "name": "stdout",
          "text": [
            "{'Yellow', 'Red', 'Blue', 'Green'}\n"
          ]
        }
      ]
    },
    {
      "cell_type": "code",
      "source": [
        "numbers={1,2,3,4,5}\n",
        "numbers.remove(2)\n",
        "print(numbers)"
      ],
      "metadata": {
        "colab": {
          "base_uri": "https://localhost:8080/"
        },
        "id": "tMTJtOiAxs-M",
        "outputId": "654dfd5a-7644-460f-8d3c-df547033aeaf"
      },
      "execution_count": null,
      "outputs": [
        {
          "output_type": "stream",
          "name": "stdout",
          "text": [
            "{1, 3, 4, 5}\n"
          ]
        }
      ]
    },
    {
      "cell_type": "code",
      "source": [
        "numbers={1,2,3,4,5}\n",
        "numbers.discard(6)\n",
        "print(numbers)"
      ],
      "metadata": {
        "colab": {
          "base_uri": "https://localhost:8080/"
        },
        "id": "EY4eGhnyxcab",
        "outputId": "a8ba7355-3dcd-4dfc-f90e-5f29e155e1cf"
      },
      "execution_count": null,
      "outputs": [
        {
          "output_type": "stream",
          "name": "stdout",
          "text": [
            "{1, 2, 3, 4, 5}\n"
          ]
        }
      ]
    },
    {
      "cell_type": "code",
      "source": [
        "set1 = {1, 2, 3, 4}\n",
        "set2 = {3, 4, 5, 6}\n",
        "set3 = set1.union(set2)\n",
        "print(set3)"
      ],
      "metadata": {
        "colab": {
          "base_uri": "https://localhost:8080/"
        },
        "id": "His1zoGVx-bi",
        "outputId": "f7574006-faa7-4269-ce92-1bc2900ab4c7"
      },
      "execution_count": null,
      "outputs": [
        {
          "output_type": "stream",
          "name": "stdout",
          "text": [
            "{1, 2, 3, 4, 5, 6}\n"
          ]
        }
      ]
    },
    {
      "cell_type": "code",
      "source": [
        "set1 = {1, 2, 3, 4}\n",
        "set2 = {3, 4, 5, 6}\n",
        "set3 = set1.difference(set2)\n",
        "print(set3)"
      ],
      "metadata": {
        "colab": {
          "base_uri": "https://localhost:8080/"
        },
        "id": "zspU_3aYyMzc",
        "outputId": "a9145c58-5754-417f-8fde-8bc608730be9"
      },
      "execution_count": null,
      "outputs": [
        {
          "output_type": "stream",
          "name": "stdout",
          "text": [
            "{1, 2}\n"
          ]
        }
      ]
    },
    {
      "cell_type": "code",
      "source": [
        "set1 = {1, 2, 3, 4}\n",
        "set2 = {3, 4, 5, 6}\n",
        "set3 = set1.symmetric_difference(set2)\n",
        "print(set3)"
      ],
      "metadata": {
        "colab": {
          "base_uri": "https://localhost:8080/"
        },
        "id": "CRmJ6kfvyXEG",
        "outputId": "d25952e3-168e-4bad-bfb7-1951ac5fdc14"
      },
      "execution_count": null,
      "outputs": [
        {
          "output_type": "stream",
          "name": "stdout",
          "text": [
            "{1, 2, 5, 6}\n"
          ]
        }
      ]
    },
    {
      "cell_type": "code",
      "source": [
        "set1 = {1, 2, 3, 4}\n",
        "set2 = {3, 4, 5, 6}\n",
        "set3 = set1.issubset(set2)\n",
        "print(set3)"
      ],
      "metadata": {
        "colab": {
          "base_uri": "https://localhost:8080/"
        },
        "id": "m5On5BgIylX4",
        "outputId": "f50e60e4-8f57-4978-b520-3012941a5fe2"
      },
      "execution_count": null,
      "outputs": [
        {
          "output_type": "stream",
          "name": "stdout",
          "text": [
            "False\n"
          ]
        }
      ]
    },
    {
      "cell_type": "code",
      "source": [
        "set1 = {1, 2, 3, 4}\n",
        "set2 = {3, 4}\n",
        "set3 = set2.issubset(set1)\n",
        "print(set3)"
      ],
      "metadata": {
        "colab": {
          "base_uri": "https://localhost:8080/"
        },
        "id": "stAL3z_Tyy3U",
        "outputId": "0a7b8f11-a014-4241-e414-ddf70d77ef18"
      },
      "execution_count": null,
      "outputs": [
        {
          "output_type": "stream",
          "name": "stdout",
          "text": [
            "True\n"
          ]
        }
      ]
    },
    {
      "cell_type": "code",
      "source": [
        "set1 = {1, 2, 3, 4}\n",
        "set2 = {3, 4}\n",
        "set3 = set1.issuperset(set2)\n",
        "print(set3)"
      ],
      "metadata": {
        "colab": {
          "base_uri": "https://localhost:8080/"
        },
        "id": "dqb8VAeWzGnM",
        "outputId": "67e73b39-fea2-4f58-dad1-f89aaa159e3d"
      },
      "execution_count": null,
      "outputs": [
        {
          "output_type": "stream",
          "name": "stdout",
          "text": [
            "True\n"
          ]
        }
      ]
    },
    {
      "cell_type": "code",
      "source": [
        "set1 = set()\n",
        "print(type(set1))"
      ],
      "metadata": {
        "colab": {
          "base_uri": "https://localhost:8080/"
        },
        "id": "-omS61kQzMAU",
        "outputId": "3808df3e-a342-44cd-daca-cf3dcfae412b"
      },
      "execution_count": null,
      "outputs": [
        {
          "output_type": "stream",
          "name": "stdout",
          "text": [
            "<class 'set'>\n"
          ]
        }
      ]
    },
    {
      "cell_type": "code",
      "source": [
        "lists =[1, 2, 2, 3, 4, 4, 5]\n",
        "sets = set(lists)\n",
        "print(sets)"
      ],
      "metadata": {
        "colab": {
          "base_uri": "https://localhost:8080/"
        },
        "id": "SaxHdARdzsO_",
        "outputId": "f73f9a7f-3e64-464c-b2b7-3074a664881f"
      },
      "execution_count": null,
      "outputs": [
        {
          "output_type": "stream",
          "name": "stdout",
          "text": [
            "{1, 2, 3, 4, 5}\n"
          ]
        }
      ]
    },
    {
      "cell_type": "code",
      "source": [
        "set1 = {1, 2, 3, 4}\n",
        "for s in set1:\n",
        "  print(s);"
      ],
      "metadata": {
        "colab": {
          "base_uri": "https://localhost:8080/"
        },
        "id": "PJOAzP4pz34-",
        "outputId": "cc376223-11b9-49a1-8384-b332c05f2f1b"
      },
      "execution_count": null,
      "outputs": [
        {
          "output_type": "stream",
          "name": "stdout",
          "text": [
            "1\n",
            "2\n",
            "3\n",
            "4\n"
          ]
        }
      ]
    },
    {
      "cell_type": "code",
      "source": [
        "even_numbers = {2, 4, 6, 8}\n",
        "prime_numbers = {2, 3, 5, 7}\n",
        "set3 = even_numbers.intersection(prime_numbers)\n",
        "print(set3)"
      ],
      "metadata": {
        "colab": {
          "base_uri": "https://localhost:8080/"
        },
        "id": "Hnj3qXfP0BEa",
        "outputId": "ef1aa414-fe6f-4550-e1d8-d5ea51129d92"
      },
      "execution_count": null,
      "outputs": [
        {
          "output_type": "stream",
          "name": "stdout",
          "text": [
            "{2}\n"
          ]
        }
      ]
    }
  ]
}