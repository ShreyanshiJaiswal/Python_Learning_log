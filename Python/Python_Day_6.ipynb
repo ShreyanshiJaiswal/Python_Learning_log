{
  "nbformat": 4,
  "nbformat_minor": 0,
  "metadata": {
    "colab": {
      "provenance": [],
      "authorship_tag": "ABX9TyNLOXtF2j7ixsv9XymexVPU",
      "include_colab_link": true
    },
    "kernelspec": {
      "name": "python3",
      "display_name": "Python 3"
    },
    "language_info": {
      "name": "python"
    }
  },
  "cells": [
    {
      "cell_type": "markdown",
      "metadata": {
        "id": "view-in-github",
        "colab_type": "text"
      },
      "source": [
        "<a href=\"https://colab.research.google.com/github/ShreyanshiJaiswal/Python_Learning_log/blob/main/Python/Python_Day_6.ipynb\" target=\"_parent\"><img src=\"https://colab.research.google.com/assets/colab-badge.svg\" alt=\"Open In Colab\"/></a>"
      ]
    },
    {
      "cell_type": "code",
      "execution_count": null,
      "metadata": {
        "id": "4GkASFAz3pmV"
      },
      "outputs": [],
      "source": [
        "# -------------------- Lambda Functions --------------------\n",
        "\n",
        "# Q1: Create a lambda function to add 10 to a number and print the result for input 5\n",
        "\n",
        "# Q2: Create a lambda function to multiply two numbers and print the result for input 3 and 4\n",
        "\n",
        "# Q3: Use a lambda function with 'map' to square all numbers in the list [1, 2, 3, 4, 5]\n",
        "\n",
        "# Q4: Use a lambda function with 'filter' to get all even numbers from the list [1, 2, 3, 4, 5, 6]\n",
        "\n",
        "\n",
        "# -------------------- *args --------------------\n",
        "\n",
        "# Q5: Write a function that takes any number of arguments and prints them one by one using *args\n",
        "\n",
        "# Q6: Write a function using *args that returns the sum of all the arguments passed\n",
        "\n",
        "# Q7: Write a function using *args that finds the maximum number among all the inputs\n",
        "\n",
        "\n",
        "# -------------------- **kwargs --------------------\n",
        "\n",
        "# Q8: Write a function that accepts any number of keyword arguments using **kwargs and prints them\n",
        "\n",
        "# Q9: Write a function that accepts name and age using **kwargs and prints a sentence like: \"My name is X and I am Y years old\"\n",
        "\n",
        "# Q10: Write a function that uses **kwargs to check if a key called \"city\" exists in the input or not\n",
        "\n",
        "\n",
        "# -------------------- Global and Local Variables --------------------\n",
        "\n",
        "# Q11: Create a variable outside the function (global), then create a function that prints it\n",
        "\n",
        "# Q12: Create a local variable inside a function and print it\n",
        "\n",
        "# Q13: Try to print a local variable outside its function (see what happens)\n",
        "\n",
        "# Q14: Create a global variable and change its value inside a function using the 'global' keyword"
      ]
    },
    {
      "cell_type": "markdown",
      "source": [
        "LAMBDA FUNCTIONS"
      ],
      "metadata": {
        "id": "6mpY6wqc4H2A"
      }
    },
    {
      "cell_type": "code",
      "source": [
        "def adding(x):\n",
        "    return(x+10)\n",
        "lambda x:x+10\n",
        "y=lambda x:x+10\n",
        "print(y(9))"
      ],
      "metadata": {
        "colab": {
          "base_uri": "https://localhost:8080/"
        },
        "id": "gjR085eh4LKw",
        "outputId": "4040232a-8bf1-423e-bb10-1b0c32ef0e9e"
      },
      "execution_count": null,
      "outputs": [
        {
          "output_type": "stream",
          "name": "stdout",
          "text": [
            "19\n"
          ]
        }
      ]
    },
    {
      "cell_type": "code",
      "source": [
        "def multiplying(x,y):\n",
        "    return(x*y)\n",
        "lambda x,y:x*y\n",
        "m=lambda x,y:x*y\n",
        "print(m(9,10))"
      ],
      "metadata": {
        "colab": {
          "base_uri": "https://localhost:8080/"
        },
        "id": "qynyLgRb5bnF",
        "outputId": "cadf7565-3f91-4f8d-e0db-a363ea485a9f"
      },
      "execution_count": null,
      "outputs": [
        {
          "output_type": "stream",
          "name": "stdout",
          "text": [
            "90\n"
          ]
        }
      ]
    },
    {
      "cell_type": "code",
      "source": [
        "numbers = [1,2,3,4,5]\n",
        "squared = map(lambda x:x*x, numbers)\n",
        "print(list(squared))"
      ],
      "metadata": {
        "colab": {
          "base_uri": "https://localhost:8080/"
        },
        "id": "GlDaM4Sh50nZ",
        "outputId": "4bfef19b-c356-4890-feda-3e2ca7673e72"
      },
      "execution_count": null,
      "outputs": [
        {
          "output_type": "stream",
          "name": "stdout",
          "text": [
            "[1, 4, 9, 16, 25]\n"
          ]
        }
      ]
    },
    {
      "cell_type": "code",
      "source": [
        "numbers = [1,2,3,4,5]\n",
        "evens = filter(lambda x:x%2==0, numbers)\n",
        "print(list(evens))"
      ],
      "metadata": {
        "colab": {
          "base_uri": "https://localhost:8080/"
        },
        "id": "qbb7i6ER67Pn",
        "outputId": "46f4d429-1406-472e-c6ca-69cc2de1e858"
      },
      "execution_count": null,
      "outputs": [
        {
          "output_type": "stream",
          "name": "stdout",
          "text": [
            "[2, 4]\n"
          ]
        }
      ]
    },
    {
      "cell_type": "markdown",
      "source": [
        "ARGS"
      ],
      "metadata": {
        "id": "g1_R_3c6Afao"
      }
    },
    {
      "cell_type": "code",
      "source": [
        "def any_num(*args):\n",
        "    return args\n",
        "print(any_num(4,5,9,10));"
      ],
      "metadata": {
        "id": "gCkaskYFAj5n",
        "colab": {
          "base_uri": "https://localhost:8080/"
        },
        "outputId": "f04085e2-a25d-4bf1-8b1d-06cff3ee4eb4"
      },
      "execution_count": null,
      "outputs": [
        {
          "output_type": "stream",
          "name": "stdout",
          "text": [
            "(4, 5, 9, 10)\n"
          ]
        }
      ]
    },
    {
      "cell_type": "code",
      "source": [
        "def any_num_sums(*args):\n",
        "    return sum(args)\n",
        "print(any_num_sums(4,5,9,10));"
      ],
      "metadata": {
        "colab": {
          "base_uri": "https://localhost:8080/"
        },
        "id": "Pv-C61t3UgXC",
        "outputId": "a17db912-7bc9-4d5d-ef2f-1a5504fc0fd5"
      },
      "execution_count": null,
      "outputs": [
        {
          "output_type": "stream",
          "name": "stdout",
          "text": [
            "28\n"
          ]
        }
      ]
    },
    {
      "cell_type": "code",
      "source": [
        "def any_num_max(*args):\n",
        "    return max(args)\n",
        "print(any_num_max(4,5,9,10));"
      ],
      "metadata": {
        "colab": {
          "base_uri": "https://localhost:8080/"
        },
        "id": "zGDU_Q3zUqel",
        "outputId": "8e4c2eea-3f19-4b23-e000-a7daa9ab3b4e"
      },
      "execution_count": null,
      "outputs": [
        {
          "output_type": "stream",
          "name": "stdout",
          "text": [
            "10\n"
          ]
        }
      ]
    },
    {
      "cell_type": "markdown",
      "source": [
        "KWARGS"
      ],
      "metadata": {
        "id": "arTNHkaiU0A8"
      }
    },
    {
      "cell_type": "code",
      "source": [
        "def any_num(**kwargs):\n",
        "    print(kwargs)\n",
        "any_num(a=7,b=8,c=11);"
      ],
      "metadata": {
        "colab": {
          "base_uri": "https://localhost:8080/"
        },
        "id": "i9bXatGfU-YI",
        "outputId": "97616e57-0f93-44c8-fc50-08ffce38ba6d"
      },
      "execution_count": null,
      "outputs": [
        {
          "output_type": "stream",
          "name": "stdout",
          "text": [
            "{'a': 7, 'b': 8, 'c': 11}\n"
          ]
        }
      ]
    },
    {
      "cell_type": "code",
      "source": [],
      "metadata": {
        "id": "E8kHky0dVzML"
      },
      "execution_count": null,
      "outputs": []
    }
  ]
}