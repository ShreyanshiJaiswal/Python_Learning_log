{
  "nbformat": 4,
  "nbformat_minor": 0,
  "metadata": {
    "colab": {
      "provenance": [],
      "authorship_tag": "ABX9TyNrG6QgvfDndNgVlnTRrK34",
      "include_colab_link": true
    },
    "kernelspec": {
      "name": "python3",
      "display_name": "Python 3"
    },
    "language_info": {
      "name": "python"
    }
  },
  "cells": [
    {
      "cell_type": "markdown",
      "metadata": {
        "id": "view-in-github",
        "colab_type": "text"
      },
      "source": [
        "<a href=\"https://colab.research.google.com/github/ShreyanshiJaiswal/Python_Learning_log/blob/main/Python/Python_Day_8.ipynb\" target=\"_parent\"><img src=\"https://colab.research.google.com/assets/colab-badge.svg\" alt=\"Open In Colab\"/></a>"
      ]
    },
    {
      "cell_type": "code",
      "execution_count": null,
      "metadata": {
        "id": "JEZ50uO0_SSI"
      },
      "outputs": [],
      "source": [
        "# 1. Create a list of 5 fruits and print the third fruit in the list.\n",
        "\n",
        "# 2. Add a new fruit to the end of the list using append() and print the updated list.\n",
        "\n",
        "# 3. Insert a fruit at the second position in the list using insert() and print the list.\n",
        "\n",
        "# 4. Remove the last fruit from the list using pop() and print the updated list.\n",
        "\n",
        "# 5. Remove a specific fruit by name using remove() and print the updated list.\n",
        "\n",
        "# 6. Sort the list alphabetically using sort() and print the result.\n",
        "\n",
        "# 7. Reverse the order of the list using reverse() and print it.\n",
        "\n",
        "# 8. Create a list of 10 numbers. Use slicing to print:\n",
        "#    - First 5 numbers\n",
        "#    - Last 3 numbers\n",
        "#    - Every second number in the list\n",
        "\n",
        "# 9. Find the length of the list using len().\n",
        "\n",
        "# 10. Check if the number 7 is present in the list using the `in` keyword.\n",
        "\n",
        "# 11. Create a tuple of 4 subjects. Try to change the second subject (should raise an error).\n",
        "\n",
        "# 12. Convert a list to a tuple using tuple() function and print the result.\n",
        "\n",
        "# 13. Create a tuple of numbers and count how many times a specific number appears.\n",
        "\n",
        "# 14. Find the index of a specific element in a tuple using index().\n",
        "\n",
        "# 15. Loop through a list using a for loop and print each item with its index."
      ]
    },
    {
      "cell_type": "code",
      "source": [
        "colour_list=['guava','banana','apple','pineapple','kiwi']\n",
        "print(colour_list[2]);"
      ],
      "metadata": {
        "colab": {
          "base_uri": "https://localhost:8080/"
        },
        "id": "fFkqcI4lJn7X",
        "outputId": "5bc9785d-c58a-4071-e4db-0e3986977498"
      },
      "execution_count": null,
      "outputs": [
        {
          "output_type": "stream",
          "name": "stdout",
          "text": [
            "apple\n"
          ]
        }
      ]
    },
    {
      "cell_type": "code",
      "source": [
        "colour_list=['guava','banana','apple','pineapple','kiwi']\n",
        "colour_list.append('dragonfruit')\n",
        "print(colour_list);"
      ],
      "metadata": {
        "colab": {
          "base_uri": "https://localhost:8080/"
        },
        "id": "NavNnitxKp4w",
        "outputId": "18834cca-94c5-4971-9696-0a8557552156"
      },
      "execution_count": null,
      "outputs": [
        {
          "output_type": "stream",
          "name": "stdout",
          "text": [
            "['guava', 'banana', 'apple', 'pineapple', 'kiwi', 'dragonfruit']\n"
          ]
        }
      ]
    },
    {
      "cell_type": "code",
      "source": [
        "colour_list=['guava','banana','apple','pineapple','kiwi']\n",
        "colour_list.insert(1,'dragonfruit')\n",
        "print(colour_list);"
      ],
      "metadata": {
        "colab": {
          "base_uri": "https://localhost:8080/"
        },
        "id": "VcLaY5BRKDf_",
        "outputId": "c1930a59-92e1-474b-ebd5-a87e7312ec71"
      },
      "execution_count": null,
      "outputs": [
        {
          "output_type": "stream",
          "name": "stdout",
          "text": [
            "['guava', 'dragonfruit', 'banana', 'apple', 'pineapple', 'kiwi']\n"
          ]
        }
      ]
    },
    {
      "cell_type": "code",
      "source": [
        "colour_list=['guava','banana','apple','pineapple','kiwi']\n",
        "colour_list.pop(4)\n",
        "print(colour_list);"
      ],
      "metadata": {
        "colab": {
          "base_uri": "https://localhost:8080/"
        },
        "id": "5mGdhjaDKlrO",
        "outputId": "83bea7e7-56f2-40dd-8686-6f48a145bc93"
      },
      "execution_count": null,
      "outputs": [
        {
          "output_type": "stream",
          "name": "stdout",
          "text": [
            "['guava', 'banana', 'apple', 'pineapple']\n"
          ]
        }
      ]
    },
    {
      "cell_type": "code",
      "source": [
        "colour_list=['guava','banana','apple','pineapple','kiwi']\n",
        "colour_list.remove('guava')\n",
        "print(colour_list);"
      ],
      "metadata": {
        "colab": {
          "base_uri": "https://localhost:8080/"
        },
        "id": "boy3CM0eLIPJ",
        "outputId": "f86329f9-3629-47cc-d6db-b6de5b751d59"
      },
      "execution_count": null,
      "outputs": [
        {
          "output_type": "stream",
          "name": "stdout",
          "text": [
            "['banana', 'apple', 'pineapple', 'kiwi']\n"
          ]
        }
      ]
    },
    {
      "cell_type": "code",
      "source": [
        "colour_list=['guava','banana','apple','pineapple','kiwi']\n",
        "colour_list.sort()\n",
        "print(colour_list);"
      ],
      "metadata": {
        "colab": {
          "base_uri": "https://localhost:8080/"
        },
        "id": "8KT5V6k6Lfaz",
        "outputId": "419023a8-2f36-4e21-dd26-7f8d7d3e92ae"
      },
      "execution_count": null,
      "outputs": [
        {
          "output_type": "stream",
          "name": "stdout",
          "text": [
            "['apple', 'banana', 'guava', 'kiwi', 'pineapple']\n"
          ]
        }
      ]
    },
    {
      "cell_type": "code",
      "source": [
        "colour_list=['guava','banana','apple','pineapple','kiwi']\n",
        "colour_list.sort(reverse = True)\n",
        "print(colour_list);"
      ],
      "metadata": {
        "colab": {
          "base_uri": "https://localhost:8080/"
        },
        "id": "2kTpiwKoLmBr",
        "outputId": "8cfea1af-d8ca-4dd0-9b40-ddc1e8291740"
      },
      "execution_count": null,
      "outputs": [
        {
          "output_type": "stream",
          "name": "stdout",
          "text": [
            "['pineapple', 'kiwi', 'guava', 'banana', 'apple']\n"
          ]
        }
      ]
    },
    {
      "cell_type": "code",
      "source": [
        "num_list=[1,2,3,4,5,6,7,8,9,10]\n",
        "print(num_list[0:5]);"
      ],
      "metadata": {
        "colab": {
          "base_uri": "https://localhost:8080/"
        },
        "id": "RsGJs7aqL15t",
        "outputId": "e7b03d92-e9a4-4def-e397-6ed4b1709d1d"
      },
      "execution_count": null,
      "outputs": [
        {
          "output_type": "stream",
          "name": "stdout",
          "text": [
            "[1, 2, 3, 4, 5]\n"
          ]
        }
      ]
    },
    {
      "cell_type": "code",
      "source": [
        "num_list=[1,2,3,4,5,6,7,8,9,10]\n",
        "print(num_list[-3:]);"
      ],
      "metadata": {
        "colab": {
          "base_uri": "https://localhost:8080/"
        },
        "id": "O3ZpShdnML65",
        "outputId": "bb371cbb-79be-4b4f-b1c6-e348ebd531fd"
      },
      "execution_count": null,
      "outputs": [
        {
          "output_type": "stream",
          "name": "stdout",
          "text": [
            "[8, 9, 10]\n"
          ]
        }
      ]
    },
    {
      "cell_type": "code",
      "source": [
        "num_list=[1,2,3,4,5,6,7,8,9,10]\n",
        "print(num_list[0::2]);"
      ],
      "metadata": {
        "colab": {
          "base_uri": "https://localhost:8080/"
        },
        "id": "Ypl-0cMgNUjA",
        "outputId": "b519625e-e3ef-419a-84d2-97581024fe3b"
      },
      "execution_count": null,
      "outputs": [
        {
          "output_type": "stream",
          "name": "stdout",
          "text": [
            "[1, 3, 5, 7, 9]\n"
          ]
        }
      ]
    },
    {
      "cell_type": "code",
      "source": [
        "num_list=[1,2,3,4,5,6,7,8,9,10]\n",
        "print(len(num_list));"
      ],
      "metadata": {
        "colab": {
          "base_uri": "https://localhost:8080/"
        },
        "id": "bZuElr7QTwVq",
        "outputId": "0404742a-d0d6-456c-ea20-c5648590d6cc"
      },
      "execution_count": null,
      "outputs": [
        {
          "output_type": "stream",
          "name": "stdout",
          "text": [
            "10\n"
          ]
        }
      ]
    },
    {
      "cell_type": "code",
      "source": [
        "num_list=[1,2,3,4,5,6,7,8,9,10]\n",
        "if 7 in num_list:\n",
        "     print('true')\n",
        "else:\n",
        "     print(\"no not there\");"
      ],
      "metadata": {
        "colab": {
          "base_uri": "https://localhost:8080/"
        },
        "id": "wxf-q9v6VAvW",
        "outputId": "1f6ee4f7-cb69-4f2b-dd87-ec7b813c837a"
      },
      "execution_count": null,
      "outputs": [
        {
          "output_type": "stream",
          "name": "stdout",
          "text": [
            "true\n"
          ]
        }
      ]
    },
    {
      "cell_type": "code",
      "source": [
        "sub_name =('Math','Physics','Biology','Chemistry')\n",
        "print(sub_name);"
      ],
      "metadata": {
        "colab": {
          "base_uri": "https://localhost:8080/"
        },
        "id": "Hcj5aCKsVZ8K",
        "outputId": "cf8bdfc2-8cd1-4428-ca63-1e077dd82ab7"
      },
      "execution_count": null,
      "outputs": [
        {
          "output_type": "stream",
          "name": "stdout",
          "text": [
            "('Math', 'Physics', 'Biology', 'Chemistry')\n"
          ]
        }
      ]
    },
    {
      "cell_type": "code",
      "source": [
        "sub_name =('Math','Physics','Biology','Chemistry')\n",
        "sub_name.append()\n",
        "print(sub_name);"
      ],
      "metadata": {
        "colab": {
          "base_uri": "https://localhost:8080/",
          "height": 176
        },
        "id": "dDvMjgRZWHsd",
        "outputId": "99439d06-b49e-4357-d0c7-608df281dff9"
      },
      "execution_count": null,
      "outputs": [
        {
          "output_type": "error",
          "ename": "AttributeError",
          "evalue": "'tuple' object has no attribute 'append'",
          "traceback": [
            "\u001b[0;31m---------------------------------------------------------------------------\u001b[0m",
            "\u001b[0;31mAttributeError\u001b[0m                            Traceback (most recent call last)",
            "\u001b[0;32m/tmp/ipython-input-160721591.py\u001b[0m in \u001b[0;36m<cell line: 0>\u001b[0;34m()\u001b[0m\n\u001b[1;32m      1\u001b[0m \u001b[0msub_name\u001b[0m \u001b[0;34m=\u001b[0m\u001b[0;34m(\u001b[0m\u001b[0;34m'Math'\u001b[0m\u001b[0;34m,\u001b[0m\u001b[0;34m'Physics'\u001b[0m\u001b[0;34m,\u001b[0m\u001b[0;34m'Biology'\u001b[0m\u001b[0;34m,\u001b[0m\u001b[0;34m'Chemistry'\u001b[0m\u001b[0;34m)\u001b[0m\u001b[0;34m\u001b[0m\u001b[0;34m\u001b[0m\u001b[0m\n\u001b[0;32m----> 2\u001b[0;31m \u001b[0msub_name\u001b[0m\u001b[0;34m.\u001b[0m\u001b[0mappend\u001b[0m\u001b[0;34m(\u001b[0m\u001b[0;34m)\u001b[0m\u001b[0;34m\u001b[0m\u001b[0;34m\u001b[0m\u001b[0m\n\u001b[0m\u001b[1;32m      3\u001b[0m \u001b[0mprint\u001b[0m\u001b[0;34m(\u001b[0m\u001b[0msub_name\u001b[0m\u001b[0;34m)\u001b[0m\u001b[0;34m;\u001b[0m\u001b[0;34m\u001b[0m\u001b[0;34m\u001b[0m\u001b[0m\n",
            "\u001b[0;31mAttributeError\u001b[0m: 'tuple' object has no attribute 'append'"
          ]
        }
      ]
    },
    {
      "cell_type": "markdown",
      "source": [
        "Shows error as tuples are immutable"
      ],
      "metadata": {
        "id": "4S8-VrXxWWN-"
      }
    },
    {
      "cell_type": "code",
      "source": [
        "num_list=[1,2,3,4,5,6,7,8,9,10]\n",
        "num_tuple = tuple(num_list)\n",
        "print(num_tuple);"
      ],
      "metadata": {
        "colab": {
          "base_uri": "https://localhost:8080/"
        },
        "id": "7g1odApvWSlv",
        "outputId": "9966e98a-9434-4989-ec3d-b36cdb59e616"
      },
      "execution_count": null,
      "outputs": [
        {
          "output_type": "stream",
          "name": "stdout",
          "text": [
            "(1, 2, 3, 4, 5, 6, 7, 8, 9, 10)\n"
          ]
        }
      ]
    },
    {
      "cell_type": "code",
      "source": [
        "num_tuple =(2,2,2,8,8,8,9,9,9,9,9)\n",
        "print(num_tuple.count(9));"
      ],
      "metadata": {
        "colab": {
          "base_uri": "https://localhost:8080/"
        },
        "id": "unVvxdluWwWb",
        "outputId": "be16933a-b724-4897-c624-85b90a547d2c"
      },
      "execution_count": null,
      "outputs": [
        {
          "output_type": "stream",
          "name": "stdout",
          "text": [
            "5\n"
          ]
        }
      ]
    },
    {
      "cell_type": "code",
      "source": [
        "num_tuple =(2,2,2,8,8,8,9,9,9,9,9)\n",
        "print(num_tuple.index(2));"
      ],
      "metadata": {
        "colab": {
          "base_uri": "https://localhost:8080/"
        },
        "id": "Vip27h41Xzy0",
        "outputId": "5db70ea3-a6f9-4c8d-d044-6461937d9136"
      },
      "execution_count": null,
      "outputs": [
        {
          "output_type": "stream",
          "name": "stdout",
          "text": [
            "0\n"
          ]
        }
      ]
    },
    {
      "cell_type": "code",
      "source": [
        "colours =['green','yellow','orange','purple']\n",
        "for index, color in enumerate(colours):\n",
        "    print(index, color);"
      ],
      "metadata": {
        "colab": {
          "base_uri": "https://localhost:8080/"
        },
        "id": "OIUj_8mbYDCu",
        "outputId": "b2985dd2-a414-4ea2-9812-d8fffe740a74"
      },
      "execution_count": null,
      "outputs": [
        {
          "output_type": "stream",
          "name": "stdout",
          "text": [
            "0 green\n",
            "1 yellow\n",
            "2 orange\n",
            "3 purple\n"
          ]
        }
      ]
    }
  ]
}