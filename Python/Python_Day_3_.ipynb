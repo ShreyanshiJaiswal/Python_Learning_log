{
  "nbformat": 4,
  "nbformat_minor": 0,
  "metadata": {
    "colab": {
      "provenance": [],
      "authorship_tag": "ABX9TyPN0efHbI4D64WQ/UdQUZFR",
      "include_colab_link": true
    },
    "kernelspec": {
      "name": "python3",
      "display_name": "Python 3"
    },
    "language_info": {
      "name": "python"
    }
  },
  "cells": [
    {
      "cell_type": "markdown",
      "metadata": {
        "id": "view-in-github",
        "colab_type": "text"
      },
      "source": [
        "<a href=\"https://colab.research.google.com/github/ShreyanshiJaiswal/Python_Learning_log/blob/main/Python/Python_Day_3_.ipynb\" target=\"_parent\"><img src=\"https://colab.research.google.com/assets/colab-badge.svg\" alt=\"Open In Colab\"/></a>"
      ]
    },
    {
      "cell_type": "code",
      "execution_count": null,
      "metadata": {
        "colab": {
          "base_uri": "https://localhost:8080/"
        },
        "id": "_9Vu2lEtv30P",
        "outputId": "4ea8da82-9ae3-4c51-85d0-220863c6d719"
      },
      "outputs": [
        {
          "output_type": "stream",
          "name": "stdout",
          "text": [
            "Enter a number:46\n",
            "Number is even\n"
          ]
        }
      ],
      "source": [
        "# ✅ Challenge 1: Even or Odd\n",
        "# Ask the user to enter a number.\n",
        "# Use if-else to check if the number is even or odd.\n",
        "# Print \"Even number\" or \"Odd number\".\n",
        "\n",
        "n = int(input(\"Enter a number:\"))\n",
        "if n % 2 == 0:\n",
        " print(\"Number is even\")\n",
        "else:\n",
        " print(\"Number is odd\");"
      ]
    },
    {
      "cell_type": "code",
      "source": [
        "# ✅ Challenge 2: Positive, Negative, or Zero\n",
        "# Ask the user to input a number.\n",
        "# Use if-elif-else to check whether it is:\n",
        "# - Positive\n",
        "# - Negative\n",
        "# - Zero\n",
        "# Print the result accordingly.\n",
        "\n",
        "n = int(input(\"Enter a number:\"))\n",
        "if n > 0:\n",
        "  print(\"Number is positive\")\n",
        "elif (n == 0):\n",
        "  print(\"Number is zero\")\n",
        "else:\n",
        "  print(\"Number is negative\");"
      ],
      "metadata": {
        "colab": {
          "base_uri": "https://localhost:8080/"
        },
        "id": "_DundcCdxdC-",
        "outputId": "f54016b5-333f-4d5b-c4f8-b649a46c6f61"
      },
      "execution_count": null,
      "outputs": [
        {
          "output_type": "stream",
          "name": "stdout",
          "text": [
            "Enter a number:-9\n",
            "Number is negative\n"
          ]
        }
      ]
    },
    {
      "cell_type": "code",
      "source": [
        "# ✅ Challenge 3: Largest of Two Numbers\n",
        "# Take input of two numbers from the user.\n",
        "# Use if-else to print which number is larger.\n",
        "# If both are equal, print \"Both numbers are equal\".\n",
        "\n",
        "n = int(input(\"Enter first number:\"))\n",
        "m = int(input(\"Enter second number:\"))\n",
        "if n > m:\n",
        "  print(\"First number is larger\")\n",
        "elif (n == m):\n",
        "  print(\"Both numbers are equal\")"
      ],
      "metadata": {
        "colab": {
          "base_uri": "https://localhost:8080/"
        },
        "id": "8Swpt8L52zTu",
        "outputId": "9f4c13e2-1b76-4b24-974f-1ceb7aa9f71b"
      },
      "execution_count": null,
      "outputs": [
        {
          "output_type": "stream",
          "name": "stdout",
          "text": [
            "Enter first number:89\n",
            "Enter second number:65\n",
            "First number is larger\n"
          ]
        }
      ]
    },
    {
      "cell_type": "code",
      "source": [
        "# ✅ Challenge 4: Grade Checker\n",
        "# Ask the user to enter their marks (out of 100).\n",
        "# Use if-elif-else to print grades:\n",
        "# - 90 and above: \"A\"\n",
        "# - 75 to 89: \"B\"\n",
        "# - 60 to 74: \"C\"\n",
        "# - 35 to 59: \"D\"\n",
        "# - Below 35: \"Fail\"\n",
        "\n",
        "marks = int(input(\"Enter your marks:\"))\n",
        "if marks >= 90:\n",
        "  print(\"A\")\n",
        "elif marks >= 75:\n",
        "  print(\"B\")\n",
        "elif marks >= 60:\n",
        "  print(\"C\")\n",
        "elif marks >= 35:\n",
        "  print(\"D\")\n",
        "else:\n",
        "  print(\"Fail\");"
      ],
      "metadata": {
        "colab": {
          "base_uri": "https://localhost:8080/"
        },
        "id": "UQCjVr9727ot",
        "outputId": "dc733e4a-d729-4fd1-8e51-a39d139dadd1"
      },
      "execution_count": null,
      "outputs": [
        {
          "output_type": "stream",
          "name": "stdout",
          "text": [
            "Enter your marks:9\n",
            "Fail\n"
          ]
        }
      ]
    },
    {
      "cell_type": "code",
      "source": [
        "# ✅ Challenge 5: Nested If – Number Range\n",
        "# Ask the user to enter a number between 1 and 100.\n",
        "# First, check if the number is within range (1 to 100).\n",
        "# If yes, then:\n",
        "#   - If it's less than 50 → print \"Below Average\"\n",
        "#   - If it's 50 or more and less than 75 → print \"Average\"\n",
        "#   - If it's 75 or more → print \"Above Average\"\n",
        "# If it's not within 1–100, print \"Invalid input\"\n",
        "\n",
        "n = int(input(\"Enter a number between 1 and 100:\"))\n",
        "if n < 100 and n > 1:\n",
        "  if n < 50:\n",
        "    print(\"Below Average\")\n",
        "  elif n >= 50 and n < 75:\n",
        "    print(\"Average\")\n",
        "  elif n >= 75:\n",
        "    print(\"Above Average\")\n",
        "else:\n",
        "  print(\"Invalid input\");\n"
      ],
      "metadata": {
        "colab": {
          "base_uri": "https://localhost:8080/"
        },
        "id": "HRDz_bDb3Th8",
        "outputId": "7fa411d0-2a3e-42fa-9d7c-b502ab54950a"
      },
      "execution_count": null,
      "outputs": [
        {
          "output_type": "stream",
          "name": "stdout",
          "text": [
            "Enter a number between 1 and 100:89\n",
            "Above Average\n"
          ]
        }
      ]
    }
  ]
}