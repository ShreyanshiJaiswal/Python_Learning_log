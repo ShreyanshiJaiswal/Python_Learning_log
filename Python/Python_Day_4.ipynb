{
  "nbformat": 4,
  "nbformat_minor": 0,
  "metadata": {
    "colab": {
      "provenance": [],
      "authorship_tag": "ABX9TyNGJBvN0cNuSy1F87yHkqLR",
      "include_colab_link": true
    },
    "kernelspec": {
      "name": "python3",
      "display_name": "Python 3"
    },
    "language_info": {
      "name": "python"
    }
  },
  "cells": [
    {
      "cell_type": "markdown",
      "metadata": {
        "id": "view-in-github",
        "colab_type": "text"
      },
      "source": [
        "<a href=\"https://colab.research.google.com/github/ShreyanshiJaiswal/Python_Learning_log/blob/main/Python/Python_Day_4.ipynb\" target=\"_parent\"><img src=\"https://colab.research.google.com/assets/colab-badge.svg\" alt=\"Open In Colab\"/></a>"
      ]
    },
    {
      "cell_type": "code",
      "execution_count": null,
      "metadata": {
        "colab": {
          "base_uri": "https://localhost:8080/"
        },
        "id": "yEhyJsBah2tO",
        "outputId": "825a3fc7-b112-4ccc-eac4-56062424ce49"
      },
      "outputs": [
        {
          "output_type": "stream",
          "name": "stdout",
          "text": [
            "1\n",
            "2\n",
            "3\n",
            "4\n",
            "5\n",
            "6\n",
            "7\n",
            "8\n",
            "9\n",
            "10\n"
          ]
        }
      ],
      "source": [
        "# ✅ 1. FOR LOOP PRACTICE\n",
        "# Task: Print numbers from 1 to 10 using a for loop\n",
        "\n",
        "for num in range(1,11):\n",
        "  print(num);"
      ]
    },
    {
      "cell_type": "code",
      "source": [
        "# ✅ 2. WHILE LOOP PRACTICE\n",
        "# Task: Print “Hello!” 5 times using a while loop\n",
        "\n",
        "count = 5\n",
        "while (count > 0):\n",
        "  print(\"Hello\")\n",
        "  count = count - 1;"
      ],
      "metadata": {
        "colab": {
          "base_uri": "https://localhost:8080/"
        },
        "id": "u6v8xUd-jEkY",
        "outputId": "6c926327-d6e8-4e70-df5d-25d91abe3d1f"
      },
      "execution_count": null,
      "outputs": [
        {
          "output_type": "stream",
          "name": "stdout",
          "text": [
            "Hello\n",
            "Hello\n",
            "Hello\n",
            "Hello\n",
            "Hello\n"
          ]
        }
      ]
    },
    {
      "cell_type": "code",
      "source": [
        "# ✅ 3. SIMULATE DO-WHILE LOOP\n",
        "# Task: Keep asking the user to enter a number until they type 0\n",
        "# After 0 is entered, print “Loop Ended”\n",
        "\n",
        "while True:\n",
        "  num = int(input(\"Enter a positive number:\"))\n",
        "  print(num)\n",
        "  if not num > 0:\n",
        "    break\n",
        "print(\"Loop ended\")"
      ],
      "metadata": {
        "colab": {
          "base_uri": "https://localhost:8080/"
        },
        "id": "-LwzMFKGj6LM",
        "outputId": "48478f8e-0091-421d-b515-6492a12c47aa"
      },
      "execution_count": null,
      "outputs": [
        {
          "output_type": "stream",
          "name": "stdout",
          "text": [
            "Enter a positive number:89\n",
            "89\n",
            "Enter a positive number:67\n",
            "67\n",
            "Enter a positive number:-9\n",
            "-9\n",
            "Loop ended\n"
          ]
        }
      ]
    },
    {
      "cell_type": "code",
      "source": [
        "# ✅ 4. RANGE() PRACTICE\n",
        "# Task: Print even numbers from 2 to 20 using a loop and range()\n",
        "\n",
        "for k in range(2,21,2):\n",
        " print(k);"
      ],
      "metadata": {
        "colab": {
          "base_uri": "https://localhost:8080/"
        },
        "id": "3kgdHC3Fl8up",
        "outputId": "fc82830b-603e-4c8c-c5bc-1cd0f087bcd8"
      },
      "execution_count": null,
      "outputs": [
        {
          "output_type": "stream",
          "name": "stdout",
          "text": [
            "2\n",
            "4\n",
            "6\n",
            "8\n",
            "10\n",
            "12\n",
            "14\n",
            "16\n",
            "18\n",
            "20\n"
          ]
        }
      ]
    },
    {
      "cell_type": "code",
      "source": [
        "# ✅ 5. BREAK STATEMENT PRACTICE\n",
        "# Task: Print numbers from 1 to 10, but stop the loop when the number is 5\n",
        "\n",
        "for i in range(1,11):\n",
        "  print(i)\n",
        "  if (i==5):\n",
        "   break\n",
        "print(\"Loop ended\");\n"
      ],
      "metadata": {
        "colab": {
          "base_uri": "https://localhost:8080/"
        },
        "id": "Aip3dz7PmTOk",
        "outputId": "c1eda6f4-af04-4152-bdbb-0676a0fab816"
      },
      "execution_count": null,
      "outputs": [
        {
          "output_type": "stream",
          "name": "stdout",
          "text": [
            "1\n",
            "2\n",
            "3\n",
            "4\n",
            "5\n",
            "Loop ended\n"
          ]
        }
      ]
    },
    {
      "cell_type": "code",
      "source": [
        "# ✅ 6. CONTINUE STATEMENT PRACTICE\n",
        "# Task: Print numbers from 1 to 10, but skip printing number 6\n",
        "\n",
        "for i in range(1,11):\n",
        "  if i == 6:\n",
        "    continue\n",
        "  print(i)"
      ],
      "metadata": {
        "colab": {
          "base_uri": "https://localhost:8080/"
        },
        "id": "FzyhW-Lan2a_",
        "outputId": "00db662f-bbe5-4608-ab90-42e68320b8e0"
      },
      "execution_count": null,
      "outputs": [
        {
          "output_type": "stream",
          "name": "stdout",
          "text": [
            "1\n",
            "2\n",
            "3\n",
            "4\n",
            "5\n",
            "7\n",
            "8\n",
            "9\n",
            "10\n"
          ]
        }
      ]
    },
    {
      "cell_type": "code",
      "source": [
        "# ✅ 7. PASS STATEMENT PRACTICE\n",
        "# Task: Write a for loop from 1 to 5\n",
        "# When i == 3, use pass (do nothing)\n",
        "# Print i in other cases\n",
        "\n",
        "for i in range(1,6):\n",
        "  print(i)\n",
        "  if i==3:\n",
        "    pass;"
      ],
      "metadata": {
        "colab": {
          "base_uri": "https://localhost:8080/"
        },
        "id": "nk3Tvn9HpIY6",
        "outputId": "a4b124a0-7ba4-4f57-c04f-525961e0141f"
      },
      "execution_count": null,
      "outputs": [
        {
          "output_type": "stream",
          "name": "stdout",
          "text": [
            "1\n",
            "2\n",
            "3\n",
            "4\n",
            "5\n"
          ]
        }
      ]
    }
  ]
}