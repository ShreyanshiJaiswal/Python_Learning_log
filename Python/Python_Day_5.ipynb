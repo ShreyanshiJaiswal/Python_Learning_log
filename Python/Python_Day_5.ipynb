{
  "nbformat": 4,
  "nbformat_minor": 0,
  "metadata": {
    "colab": {
      "provenance": [],
      "authorship_tag": "ABX9TyMILDeDqQ+qgSqwcnCfqELC",
      "include_colab_link": true
    },
    "kernelspec": {
      "name": "python3",
      "display_name": "Python 3"
    },
    "language_info": {
      "name": "python"
    }
  },
  "cells": [
    {
      "cell_type": "markdown",
      "metadata": {
        "id": "view-in-github",
        "colab_type": "text"
      },
      "source": [
        "<a href=\"https://colab.research.google.com/github/ShreyanshiJaiswal/Python_Learning_log/blob/main/Python/Python_Day_5.ipynb\" target=\"_parent\"><img src=\"https://colab.research.google.com/assets/colab-badge.svg\" alt=\"Open In Colab\"/></a>"
      ]
    },
    {
      "cell_type": "code",
      "execution_count": null,
      "metadata": {
        "id": "pUFiSe9ulbmo"
      },
      "outputs": [],
      "source": [
        "# --------------------------------------------\n",
        "# 🧪 PRACTICE QUESTIONS - PYTHON FUNCTIONS\n",
        "# --------------------------------------------\n",
        "\n",
        "# 1. Write a function that prints \"Welcome to Python functions!\"\n",
        "\n",
        "# 2. Write a function that takes your name as input and prints \"Hello, <your name>!\"\n",
        "\n",
        "# 3. Write a function that takes two numbers and returns their sum.\n",
        "\n",
        "# 4. Write a function that takes two numbers and returns their difference.\n",
        "\n",
        "# 5. Write a function that takes your age and prints whether you are eligible to vote (age >= 18).\n",
        "\n",
        "# 6. Write a function that returns the square of a number.\n",
        "\n",
        "# 7. Write a function that returns the cube of a number.\n",
        "\n",
        "# 8. Write a function with default parameter: It should take a name (default to \"Friend\") and print \"Good morning, <name>!\"\n",
        "\n",
        "# 9. Write a function that takes a number and checks if it is even or odd.\n",
        "\n",
        "# 10. Write a function that takes a number and returns True if it's positive, else False.\n",
        "\n",
        "# --------------------------------------------\n",
        "# 🚀 BONUS CHALLENGES\n",
        "# --------------------------------------------\n",
        "\n",
        "# 11. Write a function that takes three numbers and returns the greatest.\n",
        "\n",
        "# 12. Write a function that takes a string and returns the number of characters in it.\n",
        "\n",
        "# 13. Write a function that takes a number and returns the factorial of it.\n",
        "\n",
        "# 14. Write a function that takes a list of numbers and returns the sum.\n",
        "\n",
        "# 15. Write a function that takes a list and returns the largest number in it.\n",
        "\n",
        "# --------------------------------------------"
      ]
    },
    {
      "cell_type": "code",
      "source": [
        "def greet():\n",
        "    print(\"Welcome to Python functions!\")\n",
        "\n",
        "greet()"
      ],
      "metadata": {
        "colab": {
          "base_uri": "https://localhost:8080/"
        },
        "id": "Du2hnsUVrCQz",
        "outputId": "a0de0609-a1d4-4892-d307-5f2abaa006b7"
      },
      "execution_count": null,
      "outputs": [
        {
          "output_type": "stream",
          "name": "stdout",
          "text": [
            "Welcome to Python functions!\n"
          ]
        }
      ]
    },
    {
      "cell_type": "code",
      "source": [
        "def name(fname):\n",
        "    print(\"Hello\",fname)\n",
        "name(\"Shreyanshi\")"
      ],
      "metadata": {
        "colab": {
          "base_uri": "https://localhost:8080/"
        },
        "id": "HLKvQi6krM7f",
        "outputId": "0b600361-1ace-42c1-8e76-d95e9a6a42fa"
      },
      "execution_count": null,
      "outputs": [
        {
          "output_type": "stream",
          "name": "stdout",
          "text": [
            "Hello Shreyanshi\n"
          ]
        }
      ]
    },
    {
      "cell_type": "code",
      "source": [
        "def sum(a,b):\n",
        "    return a+b\n",
        "x=sum(5,4)\n",
        "print (x)"
      ],
      "metadata": {
        "colab": {
          "base_uri": "https://localhost:8080/"
        },
        "id": "3-5DpYqVsaLm",
        "outputId": "765a8484-7e44-4a27-fc14-6b0d17f31c27"
      },
      "execution_count": null,
      "outputs": [
        {
          "output_type": "stream",
          "name": "stdout",
          "text": [
            "9\n"
          ]
        }
      ]
    },
    {
      "cell_type": "code",
      "source": [
        "def dif(a,b):\n",
        "    return a-b\n",
        "x=dif(5,4)\n",
        "print (x)"
      ],
      "metadata": {
        "colab": {
          "base_uri": "https://localhost:8080/"
        },
        "id": "BgLZWSQ0tDWN",
        "outputId": "42398936-7881-458c-f216-231e8dd4e159"
      },
      "execution_count": null,
      "outputs": [
        {
          "output_type": "stream",
          "name": "stdout",
          "text": [
            "1\n"
          ]
        }
      ]
    },
    {
      "cell_type": "code",
      "source": [
        "def voting_eligilbility_criteria(age):\n",
        "  if age>=18:\n",
        "    print(\"You are eligible to vote\")\n",
        "  else:\n",
        "    print(\"You are not eligible to vote\");\n",
        "voting_eligilbility_criteria(34)"
      ],
      "metadata": {
        "colab": {
          "base_uri": "https://localhost:8080/"
        },
        "id": "vMjjuMq4tOvA",
        "outputId": "9506a18a-54cc-4309-f934-39bac635f745"
      },
      "execution_count": null,
      "outputs": [
        {
          "output_type": "stream",
          "name": "stdout",
          "text": [
            "You are eligible to vote\n"
          ]
        }
      ]
    },
    {
      "cell_type": "code",
      "source": [
        "def squ(x):\n",
        "    return x*x\n",
        "x=squ(9)\n",
        "print(x)"
      ],
      "metadata": {
        "colab": {
          "base_uri": "https://localhost:8080/"
        },
        "id": "97rSkQiovTky",
        "outputId": "373b167f-be48-43d2-b5d1-cd57a5f000cd"
      },
      "execution_count": null,
      "outputs": [
        {
          "output_type": "stream",
          "name": "stdout",
          "text": [
            "81\n"
          ]
        }
      ]
    },
    {
      "cell_type": "code",
      "source": [
        "def cub(x):\n",
        "    return x*x*x\n",
        "x=cub(9)\n",
        "print(x)"
      ],
      "metadata": {
        "colab": {
          "base_uri": "https://localhost:8080/"
        },
        "id": "z3g4XR0zw6Rn",
        "outputId": "ee172f4a-3d7a-4a9c-d7c3-b60d7dc7b451"
      },
      "execution_count": null,
      "outputs": [
        {
          "output_type": "stream",
          "name": "stdout",
          "text": [
            "729\n"
          ]
        }
      ]
    },
    {
      "cell_type": "code",
      "source": [
        "def greet(name=\"Friend\"):\n",
        "    print(f\"Good morning, {name}!\")\n",
        "\n",
        "# Example usage with default parameter\n",
        "greet()\n",
        "\n",
        "# Example usage with a different name\n",
        "greet(\"Shreyanshi\")"
      ],
      "metadata": {
        "colab": {
          "base_uri": "https://localhost:8080/"
        },
        "id": "l8mCOmM0QQBf",
        "outputId": "df6efbf5-4f7d-4177-9457-550a59e4ce9e"
      },
      "execution_count": null,
      "outputs": [
        {
          "output_type": "stream",
          "name": "stdout",
          "text": [
            "Good morning, Friend!\n",
            "Good morning, Shreyanshi!\n"
          ]
        }
      ]
    },
    {
      "cell_type": "code",
      "source": [
        "def num_test(x):\n",
        "   if x%2==0:\n",
        "    print(\"Number is even\")\n",
        "   else:\n",
        "    print(\"Number is odd\")\n",
        "num_test(10)"
      ],
      "metadata": {
        "colab": {
          "base_uri": "https://localhost:8080/"
        },
        "id": "90DfvJdvxDAq",
        "outputId": "425a6c74-9388-45de-f504-67e9568fd84c"
      },
      "execution_count": null,
      "outputs": [
        {
          "output_type": "stream",
          "name": "stdout",
          "text": [
            "Number is even\n"
          ]
        }
      ]
    },
    {
      "cell_type": "code",
      "source": [
        "def num_test(x):\n",
        "   if x>0:\n",
        "    print(\"Number is positive\")\n",
        "   else:\n",
        "    print(\"Number is negative\")\n",
        "num_test(10)"
      ],
      "metadata": {
        "colab": {
          "base_uri": "https://localhost:8080/"
        },
        "id": "WnMcAGmNxlIw",
        "outputId": "d471b37f-fa93-49d8-b671-2100f05e73f3"
      },
      "execution_count": null,
      "outputs": [
        {
          "output_type": "stream",
          "name": "stdout",
          "text": [
            "Number is positive\n"
          ]
        }
      ]
    },
    {
      "cell_type": "code",
      "source": [
        "def num(a,b,c):\n",
        "    return max(a,b,c)\n",
        "num1 = num(4,5,6)\n",
        "print(num1)"
      ],
      "metadata": {
        "colab": {
          "base_uri": "https://localhost:8080/"
        },
        "id": "Phga8KuzxytZ",
        "outputId": "7b76ca14-d0e3-43c4-84e2-1ffa3d20cf1d"
      },
      "execution_count": null,
      "outputs": [
        {
          "output_type": "stream",
          "name": "stdout",
          "text": [
            "6\n"
          ]
        }
      ]
    },
    {
      "cell_type": "code",
      "source": [
        "def name(fname):\n",
        "  return len(fname)\n",
        "s = name(\"Shreyanshi\")\n",
        "print(s)"
      ],
      "metadata": {
        "colab": {
          "base_uri": "https://localhost:8080/"
        },
        "id": "IlV3wwC44FdH",
        "outputId": "64e6b073-ece8-424d-c2ee-298385dd13e2"
      },
      "execution_count": null,
      "outputs": [
        {
          "output_type": "stream",
          "name": "stdout",
          "text": [
            "10\n"
          ]
        }
      ]
    },
    {
      "cell_type": "code",
      "source": [
        "def factorial(n):\n",
        "    result = 1\n",
        "    for i in range(1, n + 1):\n",
        "        result *= i\n",
        "    return result\n",
        "\n",
        "# Example usage:\n",
        "number = 5\n",
        "print(f\"The factorial of {number} is {factorial(number)}\")"
      ],
      "metadata": {
        "id": "lBGcbl0F4wlt",
        "colab": {
          "base_uri": "https://localhost:8080/"
        },
        "outputId": "5be75cc4-6401-4d7d-8c87-472d7a5d011b"
      },
      "execution_count": null,
      "outputs": [
        {
          "output_type": "stream",
          "name": "stdout",
          "text": [
            "The factorial of 5 is 120\n"
          ]
        }
      ]
    },
    {
      "cell_type": "code",
      "source": [
        "def lists(num):\n",
        "  return sum(num)\n",
        "x =[7,8,9,11,45]\n",
        "print(lists(x))"
      ],
      "metadata": {
        "colab": {
          "base_uri": "https://localhost:8080/"
        },
        "id": "pfdXvGcEhxcX",
        "outputId": "35868c30-b4b3-428c-b6a5-a9f7acdb54e4"
      },
      "execution_count": null,
      "outputs": [
        {
          "output_type": "stream",
          "name": "stdout",
          "text": [
            "80\n"
          ]
        }
      ]
    },
    {
      "cell_type": "code",
      "source": [
        "def lists(num):\n",
        "  return max(num)\n",
        "x =[7,8,9,11,45]\n",
        "print(lists(x))"
      ],
      "metadata": {
        "colab": {
          "base_uri": "https://localhost:8080/"
        },
        "id": "FiFOsnQrk52w",
        "outputId": "e432420a-8db9-48c9-c3ad-377741556b98"
      },
      "execution_count": null,
      "outputs": [
        {
          "output_type": "stream",
          "name": "stdout",
          "text": [
            "45\n"
          ]
        }
      ]
    }
  ]
}