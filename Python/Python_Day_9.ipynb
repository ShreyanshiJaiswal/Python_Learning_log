{
  "nbformat": 4,
  "nbformat_minor": 0,
  "metadata": {
    "colab": {
      "provenance": [],
      "authorship_tag": "ABX9TyPkZOfm0dArhv4vRiPmq5Wi",
      "include_colab_link": true
    },
    "kernelspec": {
      "name": "python3",
      "display_name": "Python 3"
    },
    "language_info": {
      "name": "python"
    }
  },
  "cells": [
    {
      "cell_type": "markdown",
      "metadata": {
        "id": "view-in-github",
        "colab_type": "text"
      },
      "source": [
        "<a href=\"https://colab.research.google.com/github/ShreyanshiJaiswal/Python_Learning_log/blob/main/Python/Python_Day_9.ipynb\" target=\"_parent\"><img src=\"https://colab.research.google.com/assets/colab-badge.svg\" alt=\"Open In Colab\"/></a>"
      ]
    },
    {
      "cell_type": "code",
      "execution_count": null,
      "metadata": {
        "id": "bK8NgboBKP3Y"
      },
      "outputs": [],
      "source": [
        "# Day 9: Dictionaries - Practice Questions (Beginner Level)\n",
        "\n",
        "# 1️⃣ Create a dictionary with keys as 'name', 'age', and 'city' and print it.\n",
        "\n",
        "# 2️⃣ Create a dictionary of 3 countries and their capitals.\n",
        "#    Print all the keys (country names) using the keys() method.\n",
        "\n",
        "# 3️⃣ From the same dictionary above, print all the values (capitals) using the values() method.\n",
        "\n",
        "# 4️⃣ Use the items() method to print both keys and values from the dictionary.\n",
        "\n",
        "# 5️⃣ Given a dictionary student = {'name': 'John', 'age': 20, 'grade': 'A'},\n",
        "#    access and print the 'grade' key using the get() method.\n",
        "\n",
        "# 6️⃣ Add a new key 'hobby' with any value to the student dictionary and print the updated dictionary.\n",
        "\n",
        "# 7️⃣ Update the value of 'city' in the first dictionary you created.\n",
        "\n",
        "# 8️⃣ Delete the 'age' key from the first dictionary and print it.\n",
        "\n",
        "# 9️⃣ Create an empty dictionary and add 3 key-value pairs one by one.\n",
        "\n",
        "# 🔟 Check if a key 'name' exists in your dictionary, and print \"Found\" if it does, otherwise \"Not Found\"."
      ]
    },
    {
      "cell_type": "code",
      "source": [
        "new_dict = {'Name': 'Shreyanshi','Age':25,'City':'Prayagraj'}\n",
        "print(new_dict);"
      ],
      "metadata": {
        "colab": {
          "base_uri": "https://localhost:8080/"
        },
        "id": "apsurRCpNanX",
        "outputId": "761720a1-771c-483a-f605-c0da73bc7e79"
      },
      "execution_count": null,
      "outputs": [
        {
          "output_type": "stream",
          "name": "stdout",
          "text": [
            "{'Name': 'Shreyanshi', 'Age': 25, 'City': 'Prayagraj'}\n"
          ]
        }
      ]
    },
    {
      "cell_type": "code",
      "source": [
        "country_names = {'Russia': 'Moscow', 'USA': 'Washington D.C.', 'France': 'Paris'}\n",
        "print(country_names.keys())"
      ],
      "metadata": {
        "colab": {
          "base_uri": "https://localhost:8080/"
        },
        "id": "l0X08B23N-3W",
        "outputId": "f8dbc734-771c-41a0-e8b0-f618b33d88a1"
      },
      "execution_count": null,
      "outputs": [
        {
          "output_type": "stream",
          "name": "stdout",
          "text": [
            "dict_keys(['Russia', 'USA', 'France'])\n"
          ]
        }
      ]
    },
    {
      "cell_type": "code",
      "source": [
        "country_names = {'Russia': 'Moscow', 'USA': 'Washington D.C.', 'France': 'Paris'}\n",
        "print(country_names.values())"
      ],
      "metadata": {
        "colab": {
          "base_uri": "https://localhost:8080/"
        },
        "id": "tx0Zlv-yPcOC",
        "outputId": "b72465a8-2ced-4f23-b0a4-e68868540527"
      },
      "execution_count": null,
      "outputs": [
        {
          "output_type": "stream",
          "name": "stdout",
          "text": [
            "dict_values(['Moscow', 'Washington D.C.', 'Paris'])\n"
          ]
        }
      ]
    },
    {
      "cell_type": "code",
      "source": [
        "country_names = {'Russia': 'Moscow', 'USA': 'Washington D.C.', 'France': 'Paris'}\n",
        "print(country_names.items())"
      ],
      "metadata": {
        "colab": {
          "base_uri": "https://localhost:8080/"
        },
        "id": "X499CSi5PhZ1",
        "outputId": "3b5be592-19e1-49af-87eb-1557f5196f21"
      },
      "execution_count": null,
      "outputs": [
        {
          "output_type": "stream",
          "name": "stdout",
          "text": [
            "dict_items([('Russia', 'Moscow'), ('USA', 'Washington D.C.'), ('France', 'Paris')])\n"
          ]
        }
      ]
    },
    {
      "cell_type": "code",
      "source": [
        "student = {'name': 'John', 'age': 20, 'grade': 'A'}\n",
        "print(student.get('grade'))"
      ],
      "metadata": {
        "colab": {
          "base_uri": "https://localhost:8080/"
        },
        "id": "FlwwFg4-PsJt",
        "outputId": "595ef3e4-06f6-4158-8dcb-9ae5d60cc077"
      },
      "execution_count": null,
      "outputs": [
        {
          "output_type": "stream",
          "name": "stdout",
          "text": [
            "A\n"
          ]
        }
      ]
    },
    {
      "cell_type": "code",
      "source": [
        "student = {'name': 'John', 'age': 20, 'grade': 'A'}\n",
        "student.update({'hobby':'sketching'})\n",
        "print(student)"
      ],
      "metadata": {
        "colab": {
          "base_uri": "https://localhost:8080/"
        },
        "id": "0HeEaWYOPzhB",
        "outputId": "a0fa54bc-b438-4ee6-86df-5d9ae17aed97"
      },
      "execution_count": null,
      "outputs": [
        {
          "output_type": "stream",
          "name": "stdout",
          "text": [
            "{'name': 'John', 'age': 20, 'grade': 'A', 'hobby': 'sketching'}\n"
          ]
        }
      ]
    },
    {
      "cell_type": "code",
      "source": [
        "country_names = {'Russia': 'Moscow', 'USA': 'Washington D.C.', 'France': 'Paris'}\n",
        "country_names.update({'Germany':'Berlin'})\n",
        "print(country_names)"
      ],
      "metadata": {
        "colab": {
          "base_uri": "https://localhost:8080/"
        },
        "id": "NFdvKMX_QgYh",
        "outputId": "38eecc81-a9d3-464f-a74d-3f232418e18a"
      },
      "execution_count": null,
      "outputs": [
        {
          "output_type": "stream",
          "name": "stdout",
          "text": [
            "{'Russia': 'Moscow', 'USA': 'Washington D.C.', 'France': 'Paris', 'Germany': 'Berlin'}\n"
          ]
        }
      ]
    },
    {
      "cell_type": "code",
      "source": [
        "student = {'name': 'John', 'age': 20, 'grade': 'A'}\n",
        "student.pop('age')\n",
        "print(student)"
      ],
      "metadata": {
        "colab": {
          "base_uri": "https://localhost:8080/"
        },
        "id": "-4Xr4LDRRbbw",
        "outputId": "f88aa9a4-a334-421a-999f-ba1cc6b2143e"
      },
      "execution_count": null,
      "outputs": [
        {
          "output_type": "stream",
          "name": "stdout",
          "text": [
            "{'name': 'John', 'grade': 'A'}\n"
          ]
        }
      ]
    },
    {
      "cell_type": "code",
      "source": [
        "new_dict = {}\n",
        "new_dict.update({'Name':'Shreyanshi'})\n",
        "new_dict.update({'Age':25})\n",
        "new_dict.update({'City':'Prayagraj'})\n",
        "print(new_dict)"
      ],
      "metadata": {
        "colab": {
          "base_uri": "https://localhost:8080/"
        },
        "id": "uA4HhwvtRoOp",
        "outputId": "f114305a-3a6e-4032-c4df-954887832c3d"
      },
      "execution_count": null,
      "outputs": [
        {
          "output_type": "stream",
          "name": "stdout",
          "text": [
            "{'Name': 'Shreyanshi', 'Age': 25, 'City': 'Prayagraj'}\n"
          ]
        }
      ]
    },
    {
      "cell_type": "code",
      "source": [
        "new_dict = {'Name': 'Shreyanshi','Age':25,'City':'Prayagraj'}\n",
        "if 'Name' in new_dict:\n",
        "    print('Found')\n",
        "else:\n",
        "    print('Not Found')"
      ],
      "metadata": {
        "colab": {
          "base_uri": "https://localhost:8080/"
        },
        "id": "aDWVOtJbR0Y_",
        "outputId": "4387b794-ff6e-4f3c-b639-ef80f516c539"
      },
      "execution_count": null,
      "outputs": [
        {
          "output_type": "stream",
          "name": "stdout",
          "text": [
            "Found\n"
          ]
        }
      ]
    }
  ]
}