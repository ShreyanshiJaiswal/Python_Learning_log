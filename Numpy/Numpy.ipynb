{
  "nbformat": 4,
  "nbformat_minor": 0,
  "metadata": {
    "colab": {
      "provenance": [],
      "authorship_tag": "ABX9TyM2PTTFAh7mpgd5/S02kAwa",
      "include_colab_link": true
    },
    "kernelspec": {
      "name": "python3",
      "display_name": "Python 3"
    },
    "language_info": {
      "name": "python"
    }
  },
  "cells": [
    {
      "cell_type": "markdown",
      "metadata": {
        "id": "view-in-github",
        "colab_type": "text"
      },
      "source": [
        "<a href=\"https://colab.research.google.com/github/ShreyanshiJaiswal/Python_Learning_log/blob/main/Numpy/Numpy.ipynb\" target=\"_parent\"><img src=\"https://colab.research.google.com/assets/colab-badge.svg\" alt=\"Open In Colab\"/></a>"
      ]
    },
    {
      "cell_type": "code",
      "execution_count": null,
      "metadata": {
        "id": "BWEqZRUU0-iS"
      },
      "outputs": [],
      "source": [
        "import numpy as np"
      ]
    },
    {
      "cell_type": "markdown",
      "source": [
        "Importing the library for Numpy."
      ],
      "metadata": {
        "id": "HX637lOE1Nzl"
      }
    },
    {
      "cell_type": "code",
      "source": [
        "a = [1,2,3,4]\n",
        "a_array = np.array(a)\n",
        "a_array"
      ],
      "metadata": {
        "id": "VPuhxf0u1Q41",
        "colab": {
          "base_uri": "https://localhost:8080/"
        },
        "outputId": "e33d0ffd-1b57-4e6c-f02b-df9d8ad9f9ba"
      },
      "execution_count": null,
      "outputs": [
        {
          "output_type": "execute_result",
          "data": {
            "text/plain": [
              "array([1, 2, 3, 4])"
            ]
          },
          "metadata": {},
          "execution_count": 2
        }
      ]
    },
    {
      "cell_type": "markdown",
      "source": [
        "So, we have created an array in numpy here. As we can see that it looks like a list in python but it's not. Through the next code block we will get to know about it that how it's different."
      ],
      "metadata": {
        "id": "QhDP1Koe8Qxo"
      }
    },
    {
      "cell_type": "code",
      "source": [
        "a_array.dtype"
      ],
      "metadata": {
        "colab": {
          "base_uri": "https://localhost:8080/"
        },
        "id": "YkXvfk018nUQ",
        "outputId": "9094cc7d-5e90-4904-c50d-2f0f6f9a7d8e"
      },
      "execution_count": null,
      "outputs": [
        {
          "output_type": "execute_result",
          "data": {
            "text/plain": [
              "dtype('int64')"
            ]
          },
          "metadata": {},
          "execution_count": 3
        }
      ]
    },
    {
      "cell_type": "markdown",
      "source": [
        "Here, we have checked the data type of the array which says it's integer."
      ],
      "metadata": {
        "id": "cNnqRllK8tXV"
      }
    },
    {
      "cell_type": "code",
      "source": [
        "a = [1,2.0,3,4]\n",
        "a_array = np.array(a)\n",
        "a_array.dtype"
      ],
      "metadata": {
        "colab": {
          "base_uri": "https://localhost:8080/"
        },
        "id": "R37lexS684AG",
        "outputId": "31f6ff59-21c2-471f-d69d-ab1a581dc6e2"
      },
      "execution_count": null,
      "outputs": [
        {
          "output_type": "execute_result",
          "data": {
            "text/plain": [
              "dtype('float64')"
            ]
          },
          "metadata": {},
          "execution_count": 4
        }
      ]
    },
    {
      "cell_type": "markdown",
      "source": [
        "So, what we did here we just chnaged the value from 2 to 2.0 and then checked the datatype of the array that we created. It can clearly be seen here that now an array can take only one data type. The moment we change the value of 2 rest of the other parameters in our array is considered as a float regradless of the fact that we have not made any changes in it. In the above code we can see the changes happened in the array datatype"
      ],
      "metadata": {
        "id": "VjHXPkXH8_bk"
      }
    },
    {
      "cell_type": "markdown",
      "source": [
        "**This is the major difference between an array and in the list.\n",
        "List - It can hold elements of different datatype. We can have int, boolean , float, string.\n",
        "Array - So an array in numpy can hold only one type of data element.**"
      ],
      "metadata": {
        "id": "v9MMTDHy99LN"
      }
    },
    {
      "cell_type": "code",
      "source": [
        "a_array.ndim"
      ],
      "metadata": {
        "colab": {
          "base_uri": "https://localhost:8080/"
        },
        "id": "CwaIcEgC-4qO",
        "outputId": "999a05b7-e1ff-480a-8674-a45683f480e6"
      },
      "execution_count": null,
      "outputs": [
        {
          "output_type": "execute_result",
          "data": {
            "text/plain": [
              "1"
            ]
          },
          "metadata": {},
          "execution_count": 5
        }
      ]
    },
    {
      "cell_type": "markdown",
      "source": [
        "This tells us about the dimension of the array in numpy."
      ],
      "metadata": {
        "id": "ozDMvjkP_Gb_"
      }
    },
    {
      "cell_type": "code",
      "source": [
        "a = [[1,2,3],[4,5,6]]\n",
        "a_array = np.array(a)\n",
        "a_array"
      ],
      "metadata": {
        "colab": {
          "base_uri": "https://localhost:8080/"
        },
        "id": "q87F7IPJ_Kyk",
        "outputId": "ef6909c3-d3f6-4c39-9d77-008a3d531365"
      },
      "execution_count": null,
      "outputs": [
        {
          "output_type": "execute_result",
          "data": {
            "text/plain": [
              "array([[1, 2, 3],\n",
              "       [4, 5, 6]])"
            ]
          },
          "metadata": {},
          "execution_count": 6
        }
      ]
    },
    {
      "cell_type": "markdown",
      "source": [
        "So this is a two dimensional array as we can see it looks quite like a matrix so the first row starts at 0 and goes on similarly the first column starts at 0 and goes on. It is also called list of lists."
      ],
      "metadata": {
        "id": "CXqcJ25G_fvE"
      }
    },
    {
      "cell_type": "code",
      "source": [
        "a_array.ndim"
      ],
      "metadata": {
        "colab": {
          "base_uri": "https://localhost:8080/"
        },
        "id": "Qle5Ka5E_wnB",
        "outputId": "518792f1-177e-4970-b3ef-1ff64b29f640"
      },
      "execution_count": null,
      "outputs": [
        {
          "output_type": "execute_result",
          "data": {
            "text/plain": [
              "2"
            ]
          },
          "metadata": {},
          "execution_count": 7
        }
      ]
    },
    {
      "cell_type": "markdown",
      "source": [
        "As we can see ndim is showing that it is a 2 dimensional array."
      ],
      "metadata": {
        "id": "Td8VUNx7_ypk"
      }
    },
    {
      "cell_type": "code",
      "source": [
        "a_array.size"
      ],
      "metadata": {
        "colab": {
          "base_uri": "https://localhost:8080/"
        },
        "id": "W_RSfRCFFAv9",
        "outputId": "8e2c0edd-ef15-40cf-ee9d-369dd8f74174"
      },
      "execution_count": null,
      "outputs": [
        {
          "output_type": "execute_result",
          "data": {
            "text/plain": [
              "6"
            ]
          },
          "metadata": {},
          "execution_count": 8
        }
      ]
    },
    {
      "cell_type": "markdown",
      "source": [
        "This tells us the number of values we have in our matrix."
      ],
      "metadata": {
        "id": "VFQ3RcEMFFDe"
      }
    },
    {
      "cell_type": "code",
      "source": [
        "a_array.shape"
      ],
      "metadata": {
        "colab": {
          "base_uri": "https://localhost:8080/"
        },
        "id": "FOaeEkV1_3uP",
        "outputId": "de68b5db-bfe6-44b7-cd89-16c1bfbcbd3a"
      },
      "execution_count": null,
      "outputs": [
        {
          "output_type": "execute_result",
          "data": {
            "text/plain": [
              "(2, 3)"
            ]
          },
          "metadata": {},
          "execution_count": 9
        }
      ]
    },
    {
      "cell_type": "markdown",
      "source": [
        "So, this is basically telling us the number of rows and columns we have in our matrix. (row, columns). In our array it is 2 rows and 3 columns."
      ],
      "metadata": {
        "id": "sRVNIavRAbTk"
      }
    },
    {
      "cell_type": "markdown",
      "source": [
        "**List vs NumPy Array:\n",
        "A Python list is like a mixed shopping bag — flexible but scattered in memory and slower to process. A NumPy array is like a neat box of only numbers, stored side by side in memory, making it compact and much faster. For example, doubling 10 lakh numbers with a list takes time, but with a NumPy array it happens almost instantly because it works on the whole block at once.**"
      ],
      "metadata": {
        "id": "SJc6Rtd1EZSy"
      }
    },
    {
      "cell_type": "code",
      "source": [
        "a = [[1,2,3],[4,5,6],[7,8,9]]\n",
        "a_array = np.array(a)\n",
        "a_array.size\n",
        "a_array"
      ],
      "metadata": {
        "colab": {
          "base_uri": "https://localhost:8080/"
        },
        "id": "HNEz8CUjFz-7",
        "outputId": "9d9c15ef-4dd1-4528-be11-4049677125fa"
      },
      "execution_count": null,
      "outputs": [
        {
          "output_type": "execute_result",
          "data": {
            "text/plain": [
              "array([[1, 2, 3],\n",
              "       [4, 5, 6],\n",
              "       [7, 8, 9]])"
            ]
          },
          "metadata": {},
          "execution_count": 10
        }
      ]
    },
    {
      "cell_type": "markdown",
      "source": [
        "here it is a 3x3 matrix but it is still a two dimensional array. It can be seen below."
      ],
      "metadata": {
        "id": "xiPIkw4VGqQB"
      }
    },
    {
      "cell_type": "code",
      "source": [
        "a_array.shape"
      ],
      "metadata": {
        "colab": {
          "base_uri": "https://localhost:8080/"
        },
        "id": "o4ROrBJZG0ih",
        "outputId": "e42e0e51-24ed-419f-c84c-6f21cd8f30dc"
      },
      "execution_count": null,
      "outputs": [
        {
          "output_type": "execute_result",
          "data": {
            "text/plain": [
              "(3, 3)"
            ]
          },
          "metadata": {},
          "execution_count": 11
        }
      ]
    },
    {
      "cell_type": "code",
      "source": [
        "a_array.ndim"
      ],
      "metadata": {
        "colab": {
          "base_uri": "https://localhost:8080/"
        },
        "id": "eaq1zyZtG6hg",
        "outputId": "34cfe823-e883-43a3-e5b5-af9a0b2e67f2"
      },
      "execution_count": null,
      "outputs": [
        {
          "output_type": "execute_result",
          "data": {
            "text/plain": [
              "2"
            ]
          },
          "metadata": {},
          "execution_count": 12
        }
      ]
    },
    {
      "cell_type": "code",
      "source": [
        "#access elements in array\n",
        "#a_array[row,column]\n",
        "a_array[2,2]"
      ],
      "metadata": {
        "colab": {
          "base_uri": "https://localhost:8080/"
        },
        "id": "2pG-w_qlEgPB",
        "outputId": "4dab0464-4d2c-4230-f12a-b714b388e23e"
      },
      "execution_count": null,
      "outputs": [
        {
          "output_type": "execute_result",
          "data": {
            "text/plain": [
              "np.int64(9)"
            ]
          },
          "metadata": {},
          "execution_count": 13
        }
      ]
    },
    {
      "cell_type": "markdown",
      "source": [
        "Above here we tried to access the values in the array by using their index values and also as it was discussed earlier that the row number starts from 0 and goes on and so does the column , so basically its the index value . Here we can do negative slicing and rest of the other things as well."
      ],
      "metadata": {
        "id": "7-nQN0CuG_rs"
      }
    },
    {
      "cell_type": "code",
      "source": [
        "a_array[2,-1]"
      ],
      "metadata": {
        "colab": {
          "base_uri": "https://localhost:8080/"
        },
        "id": "EeTenQvLIObw",
        "outputId": "7cf84a8f-2e11-4452-a3b1-4e83574646e2"
      },
      "execution_count": null,
      "outputs": [
        {
          "output_type": "execute_result",
          "data": {
            "text/plain": [
              "np.int64(9)"
            ]
          },
          "metadata": {},
          "execution_count": 14
        }
      ]
    },
    {
      "cell_type": "code",
      "source": [
        "a_array[2,:]"
      ],
      "metadata": {
        "colab": {
          "base_uri": "https://localhost:8080/"
        },
        "id": "BCjh9lPTIZat",
        "outputId": "00d33449-fa7c-4c57-ebdb-524da245a8fd"
      },
      "execution_count": null,
      "outputs": [
        {
          "output_type": "execute_result",
          "data": {
            "text/plain": [
              "array([7, 8, 9])"
            ]
          },
          "metadata": {},
          "execution_count": 15
        }
      ]
    },
    {
      "cell_type": "code",
      "source": [
        "a_array[:,1]"
      ],
      "metadata": {
        "colab": {
          "base_uri": "https://localhost:8080/"
        },
        "id": "wbXeyLwgIfIF",
        "outputId": "95e23df1-78f4-4a93-f3e4-177685be69de"
      },
      "execution_count": null,
      "outputs": [
        {
          "output_type": "execute_result",
          "data": {
            "text/plain": [
              "array([2, 5, 8])"
            ]
          },
          "metadata": {},
          "execution_count": 16
        }
      ]
    },
    {
      "cell_type": "code",
      "source": [
        "a_array[0:2,1:3]"
      ],
      "metadata": {
        "colab": {
          "base_uri": "https://localhost:8080/"
        },
        "id": "5ZFNNH9UIlQM",
        "outputId": "52485c91-c7ee-4606-fa93-cb2e376fbed4"
      },
      "execution_count": null,
      "outputs": [
        {
          "output_type": "execute_result",
          "data": {
            "text/plain": [
              "array([[2, 3],\n",
              "       [5, 6]])"
            ]
          },
          "metadata": {},
          "execution_count": 17
        }
      ]
    },
    {
      "cell_type": "code",
      "source": [
        "#assign a value/change a value\n",
        "a_array[2,2]=11\n",
        "a_array"
      ],
      "metadata": {
        "colab": {
          "base_uri": "https://localhost:8080/"
        },
        "id": "XwEU8wx9I8wb",
        "outputId": "2b7035e0-8721-401c-b136-109a0160cfc3"
      },
      "execution_count": null,
      "outputs": [
        {
          "output_type": "execute_result",
          "data": {
            "text/plain": [
              "array([[ 1,  2,  3],\n",
              "       [ 4,  5,  6],\n",
              "       [ 7,  8, 11]])"
            ]
          },
          "metadata": {},
          "execution_count": 18
        }
      ]
    },
    {
      "cell_type": "code",
      "source": [
        "a_array[0:2,1:3]=[[9,10],[8,6]]\n",
        "a_array"
      ],
      "metadata": {
        "colab": {
          "base_uri": "https://localhost:8080/"
        },
        "id": "OQiMdG-AJSvP",
        "outputId": "a5519469-fc13-43f3-df72-5165be2d6986"
      },
      "execution_count": null,
      "outputs": [
        {
          "output_type": "execute_result",
          "data": {
            "text/plain": [
              "array([[ 1,  9, 10],\n",
              "       [ 4,  8,  6],\n",
              "       [ 7,  8, 11]])"
            ]
          },
          "metadata": {},
          "execution_count": 19
        }
      ]
    },
    {
      "cell_type": "markdown",
      "source": [
        "**Creating 3 dimensional array**"
      ],
      "metadata": {
        "id": "b4jXFKA9Lewy"
      }
    },
    {
      "cell_type": "code",
      "source": [
        "a = [[[1,2],[3,4]],[[5,6],[7,8]]]\n",
        "a_array = np.array(a)\n",
        "a_array.ndim"
      ],
      "metadata": {
        "colab": {
          "base_uri": "https://localhost:8080/"
        },
        "id": "o6xtJ4-yLkHj",
        "outputId": "1da7dcff-806c-45ea-83fb-3ef28f1768b5"
      },
      "execution_count": null,
      "outputs": [
        {
          "output_type": "execute_result",
          "data": {
            "text/plain": [
              "3"
            ]
          },
          "metadata": {},
          "execution_count": 20
        }
      ]
    },
    {
      "cell_type": "markdown",
      "source": [
        "called as lists within list"
      ],
      "metadata": {
        "id": "5QZs44TZMAAK"
      }
    },
    {
      "cell_type": "code",
      "source": [
        "a_array.shape"
      ],
      "metadata": {
        "colab": {
          "base_uri": "https://localhost:8080/"
        },
        "id": "wf6_02gHMGFc",
        "outputId": "8cd8c5c0-e5de-4e1c-e3db-3fdb30bd6a27"
      },
      "execution_count": null,
      "outputs": [
        {
          "output_type": "execute_result",
          "data": {
            "text/plain": [
              "(2, 2, 2)"
            ]
          },
          "metadata": {},
          "execution_count": 21
        }
      ]
    },
    {
      "cell_type": "code",
      "source": [
        "a_array"
      ],
      "metadata": {
        "colab": {
          "base_uri": "https://localhost:8080/"
        },
        "id": "MK8a7fDHMLWB",
        "outputId": "a994d7ee-f512-48db-c068-c0b6180332cb"
      },
      "execution_count": null,
      "outputs": [
        {
          "output_type": "execute_result",
          "data": {
            "text/plain": [
              "array([[[1, 2],\n",
              "        [3, 4]],\n",
              "\n",
              "       [[5, 6],\n",
              "        [7, 8]]])"
            ]
          },
          "metadata": {},
          "execution_count": 22
        }
      ]
    },
    {
      "cell_type": "markdown",
      "source": [
        "Important thing to notice here is that the part [[1, 2],[3, 4]] is the first elememt of the matrix similarly, this is [[5, 6],[7, 8]] the second element in the matrix. But the counting for it starts from 0 and goes on. It is explained below in the code"
      ],
      "metadata": {
        "id": "IALnjXrKcT3q"
      }
    },
    {
      "cell_type": "markdown",
      "source": [],
      "metadata": {
        "id": "PXxaIcRYcv0p"
      }
    },
    {
      "cell_type": "code",
      "source": [
        "#accessing values from a 3 dimensional array\n",
        "#a_array[element,row,column]\n",
        "a_array[0,0,0]"
      ],
      "metadata": {
        "colab": {
          "base_uri": "https://localhost:8080/"
        },
        "id": "V50sJ4S3MPir",
        "outputId": "4f0ea509-7497-4a99-e4bc-6fce4978594f"
      },
      "execution_count": null,
      "outputs": [
        {
          "output_type": "execute_result",
          "data": {
            "text/plain": [
              "np.int64(1)"
            ]
          },
          "metadata": {},
          "execution_count": 23
        }
      ]
    },
    {
      "cell_type": "markdown",
      "source": [
        "Here 0th element means we are taking the first element of the matrix and from that element we take the first row and the first column."
      ],
      "metadata": {
        "id": "RHg_TvKRdHad"
      }
    },
    {
      "cell_type": "code",
      "source": [
        "a_array[1,1,0]"
      ],
      "metadata": {
        "id": "iB_b22OPMafh",
        "colab": {
          "base_uri": "https://localhost:8080/"
        },
        "outputId": "ee8a014f-415e-4709-c6b5-c65ec2794c7f"
      },
      "execution_count": null,
      "outputs": [
        {
          "output_type": "execute_result",
          "data": {
            "text/plain": [
              "np.int64(7)"
            ]
          },
          "metadata": {},
          "execution_count": 24
        }
      ]
    },
    {
      "cell_type": "markdown",
      "source": [
        "**Creating Numpy Array without creating a list**"
      ],
      "metadata": {
        "id": "Ma7GGl42IBxY"
      }
    },
    {
      "cell_type": "code",
      "source": [
        "#initialiaze arrays\n",
        "a_array=np.zeros(5)\n",
        "a_array"
      ],
      "metadata": {
        "id": "vD81XYzBIINB",
        "colab": {
          "base_uri": "https://localhost:8080/"
        },
        "outputId": "b3d70d0d-7457-4dfe-be9a-fbcb8efeeaca"
      },
      "execution_count": null,
      "outputs": [
        {
          "output_type": "execute_result",
          "data": {
            "text/plain": [
              "array([0., 0., 0., 0., 0.])"
            ]
          },
          "metadata": {},
          "execution_count": 27
        }
      ]
    },
    {
      "cell_type": "markdown",
      "source": [
        "By default it takes decimal values in arrays. But we can convert it as well."
      ],
      "metadata": {
        "id": "3BwD1pIMi69C"
      }
    },
    {
      "cell_type": "code",
      "source": [
        "a_array=np.zeros(5,dtype='int64')\n",
        "a_array"
      ],
      "metadata": {
        "colab": {
          "base_uri": "https://localhost:8080/"
        },
        "id": "67NnzK9sjDVJ",
        "outputId": "d20aa4ec-58ec-400b-b819-7949a4de6ff7"
      },
      "execution_count": null,
      "outputs": [
        {
          "output_type": "execute_result",
          "data": {
            "text/plain": [
              "array([0, 0, 0, 0, 0])"
            ]
          },
          "metadata": {},
          "execution_count": 28
        }
      ]
    },
    {
      "cell_type": "markdown",
      "source": [
        "here we have passed the desired datatype as integer.Thus we are getting integers."
      ],
      "metadata": {
        "id": "g6exBRvEjM41"
      }
    },
    {
      "cell_type": "code",
      "source": [
        "a_array=np.zeros((2,3),dtype='int32')\n",
        "a_array"
      ],
      "metadata": {
        "colab": {
          "base_uri": "https://localhost:8080/"
        },
        "id": "4UDKm7BAjUay",
        "outputId": "b19c0ce4-c674-43b0-b007-0bb9706b7f9b"
      },
      "execution_count": null,
      "outputs": [
        {
          "output_type": "execute_result",
          "data": {
            "text/plain": [
              "array([[0, 0, 0],\n",
              "       [0, 0, 0]], dtype=int32)"
            ]
          },
          "metadata": {},
          "execution_count": 30
        }
      ]
    },
    {
      "cell_type": "markdown",
      "source": [
        "here we have told the numpy to create a matrix where we want 2 rows and three columns and the datatype should be integer"
      ],
      "metadata": {
        "id": "okoO1yO8joX4"
      }
    },
    {
      "cell_type": "code",
      "source": [
        "a_array=np.ones((2,3),dtype='int32')\n",
        "a_array"
      ],
      "metadata": {
        "colab": {
          "base_uri": "https://localhost:8080/"
        },
        "id": "Y5ATbDEQj2ok",
        "outputId": "c1f40a78-03f3-4dd3-a0f6-54f81d235d83"
      },
      "execution_count": null,
      "outputs": [
        {
          "output_type": "execute_result",
          "data": {
            "text/plain": [
              "array([[1, 1, 1],\n",
              "       [1, 1, 1]], dtype=int32)"
            ]
          },
          "metadata": {},
          "execution_count": 31
        }
      ]
    },
    {
      "cell_type": "markdown",
      "source": [
        "Like previously we have written np.zeros so the actual values in the matrix were zero and now in the above code we have replaced it by 1."
      ],
      "metadata": {
        "id": "hCamOnaGkBCl"
      }
    },
    {
      "cell_type": "code",
      "source": [
        "a_array=np.full((2,3),99)\n",
        "a_array"
      ],
      "metadata": {
        "colab": {
          "base_uri": "https://localhost:8080/"
        },
        "id": "duCktCZakMdE",
        "outputId": "daf432a5-93da-48e8-dfe2-6a60e200b34a"
      },
      "execution_count": null,
      "outputs": [
        {
          "output_type": "execute_result",
          "data": {
            "text/plain": [
              "array([[99, 99, 99],\n",
              "       [99, 99, 99]])"
            ]
          },
          "metadata": {},
          "execution_count": 33
        }
      ]
    },
    {
      "cell_type": "markdown",
      "source": [
        "Here we have passed the function np.full and then passed the matrix size and the exact values that we want. The exact values can be anything from 0 to n."
      ],
      "metadata": {
        "id": "gAPsxjfYk5HO"
      }
    },
    {
      "cell_type": "code",
      "source": [
        "#array of random decimal values\n",
        "a_array=np.random.rand(2,3)\n",
        "a_array"
      ],
      "metadata": {
        "colab": {
          "base_uri": "https://localhost:8080/"
        },
        "id": "lnup9ieklFAm",
        "outputId": "015c6c55-8204-41a4-8b93-450b14925596"
      },
      "execution_count": null,
      "outputs": [
        {
          "output_type": "execute_result",
          "data": {
            "text/plain": [
              "array([[0.36765286, 0.51616536, 0.75159027],\n",
              "       [0.68075956, 0.70979544, 0.40162225]])"
            ]
          },
          "metadata": {},
          "execution_count": 34
        }
      ]
    },
    {
      "cell_type": "markdown",
      "source": [
        "It has created a random array of a random decimal number."
      ],
      "metadata": {
        "id": "zm0pq-I2lUDL"
      }
    },
    {
      "cell_type": "code",
      "source": [
        "#array of identity matrix\n",
        "a_array=np.identity(5)\n",
        "a_array"
      ],
      "metadata": {
        "colab": {
          "base_uri": "https://localhost:8080/"
        },
        "id": "ScAfghKomAAy",
        "outputId": "32b26a12-dc8c-4e57-e02a-719781b951ed"
      },
      "execution_count": null,
      "outputs": [
        {
          "output_type": "execute_result",
          "data": {
            "text/plain": [
              "array([[1., 0., 0., 0., 0.],\n",
              "       [0., 1., 0., 0., 0.],\n",
              "       [0., 0., 1., 0., 0.],\n",
              "       [0., 0., 0., 1., 0.],\n",
              "       [0., 0., 0., 0., 1.]])"
            ]
          },
          "metadata": {},
          "execution_count": 35
        }
      ]
    },
    {
      "cell_type": "markdown",
      "source": [
        "So this is an identity matrix we just have to pass the number and the numpy will create an nxn matrix and diagonally we will have 1 as a value and the rest will be all zero. Since it is an identity matrix."
      ],
      "metadata": {
        "id": "gSAYaLkemLim"
      }
    },
    {
      "cell_type": "markdown",
      "source": [
        "**Mathematics**"
      ],
      "metadata": {
        "id": "YHInCa4vmwpc"
      }
    },
    {
      "cell_type": "code",
      "source": [
        "a_array=np.identity(3,dtype='int32')\n",
        "a_array"
      ],
      "metadata": {
        "colab": {
          "base_uri": "https://localhost:8080/"
        },
        "id": "nhvDX2aPmdIW",
        "outputId": "22081219-cba1-439e-bdae-fdfc6e08c640"
      },
      "execution_count": null,
      "outputs": [
        {
          "output_type": "execute_result",
          "data": {
            "text/plain": [
              "array([[1, 0, 0],\n",
              "       [0, 1, 0],\n",
              "       [0, 0, 1]], dtype=int32)"
            ]
          },
          "metadata": {},
          "execution_count": 37
        }
      ]
    },
    {
      "cell_type": "code",
      "source": [
        "a_array=a_array+2\n",
        "a_array"
      ],
      "metadata": {
        "colab": {
          "base_uri": "https://localhost:8080/"
        },
        "id": "qVpyF1fz1I1W",
        "outputId": "c49979d7-2517-4a4b-d613-3c2dbc6be3dd"
      },
      "execution_count": null,
      "outputs": [
        {
          "output_type": "execute_result",
          "data": {
            "text/plain": [
              "array([[7, 6, 6],\n",
              "       [6, 7, 6],\n",
              "       [6, 6, 7]], dtype=int32)"
            ]
          },
          "metadata": {},
          "execution_count": 40
        }
      ]
    },
    {
      "cell_type": "markdown",
      "source": [
        "Basically what it did here is it added the 2 in every value we have in our matrix. But here since i run the code three times it is diagonally-1(after 3 times it became-1--->3---->5---->7) similary for the rest as well."
      ],
      "metadata": {
        "id": "REOEo3gA1Qm8"
      }
    },
    {
      "cell_type": "code",
      "source": [
        "a_array=a_array*2\n",
        "a_array"
      ],
      "metadata": {
        "colab": {
          "base_uri": "https://localhost:8080/"
        },
        "id": "PLfTKF7H1tol",
        "outputId": "aa25bb63-4c1c-4ae5-f4ed-dda44ff3fcf5"
      },
      "execution_count": null,
      "outputs": [
        {
          "output_type": "execute_result",
          "data": {
            "text/plain": [
              "array([[14, 12, 12],\n",
              "       [12, 14, 12],\n",
              "       [12, 12, 14]], dtype=int32)"
            ]
          },
          "metadata": {},
          "execution_count": 41
        }
      ]
    },
    {
      "cell_type": "markdown",
      "source": [
        "Here we have multiplied it by 2. SImilarly we can perform division, subtraction as well."
      ],
      "metadata": {
        "id": "S_Qow15N11_E"
      }
    },
    {
      "cell_type": "code",
      "source": [
        "a_array1=np.full((3,2),9,dtype='int32')\n",
        "a_array2=np.full((3,2),5,dtype='int32')\n",
        "print(a_array1)\n",
        "print(a_array2)"
      ],
      "metadata": {
        "colab": {
          "base_uri": "https://localhost:8080/"
        },
        "id": "s8-m5FNv15SL",
        "outputId": "8c4e4d22-575e-4cf0-f007-b755a54a52fe"
      },
      "execution_count": null,
      "outputs": [
        {
          "output_type": "stream",
          "name": "stdout",
          "text": [
            "[[9 9]\n",
            " [9 9]\n",
            " [9 9]]\n",
            "[[5 5]\n",
            " [5 5]\n",
            " [5 5]]\n"
          ]
        }
      ]
    },
    {
      "cell_type": "markdown",
      "source": [
        "So here we have created a 3x2 matrix, 2 arrays to perform addition. Like we can also add matrices."
      ],
      "metadata": {
        "id": "qznNVWCJ2miG"
      }
    },
    {
      "cell_type": "code",
      "source": [
        "a_array1=np.full((2,3),9,dtype='int32')\n",
        "a_array2=np.full((2,3),5,dtype='int32')\n",
        "print(a_array1)\n",
        "print(a_array2)\n",
        "a_array1+a_array2"
      ],
      "metadata": {
        "colab": {
          "base_uri": "https://localhost:8080/"
        },
        "id": "PJi1AzgA2wih",
        "outputId": "61f002b2-c4e8-4bb8-dd48-22d26b4ff6ea"
      },
      "execution_count": null,
      "outputs": [
        {
          "output_type": "stream",
          "name": "stdout",
          "text": [
            "[[9 9 9]\n",
            " [9 9 9]]\n",
            "[[5 5 5]\n",
            " [5 5 5]]\n"
          ]
        },
        {
          "output_type": "execute_result",
          "data": {
            "text/plain": [
              "array([[14, 14, 14],\n",
              "       [14, 14, 14]], dtype=int32)"
            ]
          },
          "metadata": {},
          "execution_count": 43
        }
      ]
    },
    {
      "cell_type": "markdown",
      "source": [
        "We just added the 2 matrix. One thing to keep in mind while doing so is that the dimension should be same like no. of rows and columns for both should be same."
      ],
      "metadata": {
        "id": "h5gtOPwM3CK7"
      }
    },
    {
      "cell_type": "markdown",
      "source": [
        "Similarly we can perform multiplication,subtraction,trignomo,etry, division etc."
      ],
      "metadata": {
        "id": "T_AN5Fck3dbB"
      }
    },
    {
      "cell_type": "code",
      "source": [
        "a_array1=np.full((2,3),9,dtype='int32')\n",
        "a_array2=np.full((2,3),5,dtype='int32')\n",
        "print(a_array1)\n",
        "print(a_array2)\n",
        "a_array1*a_array2"
      ],
      "metadata": {
        "colab": {
          "base_uri": "https://localhost:8080/"
        },
        "id": "RP6ahWPu47ax",
        "outputId": "6844b418-2433-40d8-e3ed-f020e7351ff5"
      },
      "execution_count": null,
      "outputs": [
        {
          "output_type": "stream",
          "name": "stdout",
          "text": [
            "[[9 9 9]\n",
            " [9 9 9]]\n",
            "[[5 5 5]\n",
            " [5 5 5]]\n"
          ]
        },
        {
          "output_type": "execute_result",
          "data": {
            "text/plain": [
              "array([[45, 45, 45],\n",
              "       [45, 45, 45]], dtype=int32)"
            ]
          },
          "metadata": {},
          "execution_count": 44
        }
      ]
    },
    {
      "cell_type": "code",
      "source": [
        "a_array=np.identity(3,dtype='int32')\n",
        "a_array"
      ],
      "metadata": {
        "colab": {
          "base_uri": "https://localhost:8080/"
        },
        "id": "nthTQcfz5xMz",
        "outputId": "bfaafc1a-b25e-4510-cf0f-16ab91a2cadd"
      },
      "execution_count": null,
      "outputs": [
        {
          "output_type": "execute_result",
          "data": {
            "text/plain": [
              "array([[1, 0, 0],\n",
              "       [0, 1, 0],\n",
              "       [0, 0, 1]], dtype=int32)"
            ]
          },
          "metadata": {},
          "execution_count": 46
        }
      ]
    },
    {
      "cell_type": "code",
      "source": [
        " #trigonometry\n",
        "np.sin(a_array)"
      ],
      "metadata": {
        "colab": {
          "base_uri": "https://localhost:8080/"
        },
        "id": "IGR4GuMx5AMl",
        "outputId": "b87950a3-7a89-4d31-ff2b-14549a0498da"
      },
      "execution_count": null,
      "outputs": [
        {
          "output_type": "execute_result",
          "data": {
            "text/plain": [
              "array([[0.84147098, 0.        , 0.        ],\n",
              "       [0.        , 0.84147098, 0.        ],\n",
              "       [0.        , 0.        , 0.84147098]])"
            ]
          },
          "metadata": {},
          "execution_count": 48
        }
      ]
    },
    {
      "cell_type": "markdown",
      "source": [
        "It is giving the sin of every value we have in our a_array"
      ],
      "metadata": {
        "id": "d4WKoGdd5p8H"
      }
    },
    {
      "cell_type": "code",
      "source": [
        "#statistics\n",
        "a = [[1,2,3],[4,5,6],[7,8,9]]\n",
        "a_array = np.array(a)\n",
        "a_array"
      ],
      "metadata": {
        "colab": {
          "base_uri": "https://localhost:8080/"
        },
        "id": "flhmMKah5_XD",
        "outputId": "1948865f-ed0a-42ad-9b0b-d460d6f083a0"
      },
      "execution_count": null,
      "outputs": [
        {
          "output_type": "execute_result",
          "data": {
            "text/plain": [
              "array([[1, 2, 3],\n",
              "       [4, 5, 6],\n",
              "       [7, 8, 9]])"
            ]
          },
          "metadata": {},
          "execution_count": 49
        }
      ]
    },
    {
      "cell_type": "code",
      "source": [
        "np.min(a_array)"
      ],
      "metadata": {
        "colab": {
          "base_uri": "https://localhost:8080/"
        },
        "id": "xuDl0Sg66MH5",
        "outputId": "3dc885b9-e194-459e-d800-b6dda3760a10"
      },
      "execution_count": null,
      "outputs": [
        {
          "output_type": "execute_result",
          "data": {
            "text/plain": [
              "np.int64(1)"
            ]
          },
          "metadata": {},
          "execution_count": 50
        }
      ]
    },
    {
      "cell_type": "code",
      "source": [
        "np.max(a_array)"
      ],
      "metadata": {
        "colab": {
          "base_uri": "https://localhost:8080/"
        },
        "id": "80CJgkj86Rvd",
        "outputId": "ae274f43-f180-4547-9a83-e2fe7098f795"
      },
      "execution_count": null,
      "outputs": [
        {
          "output_type": "execute_result",
          "data": {
            "text/plain": [
              "np.int64(9)"
            ]
          },
          "metadata": {},
          "execution_count": 51
        }
      ]
    },
    {
      "cell_type": "code",
      "source": [
        "np.mean(a_array)"
      ],
      "metadata": {
        "colab": {
          "base_uri": "https://localhost:8080/"
        },
        "id": "PAWVGxVr6WNl",
        "outputId": "9fee005b-86e6-4b14-c15c-ff2951ac01bd"
      },
      "execution_count": null,
      "outputs": [
        {
          "output_type": "execute_result",
          "data": {
            "text/plain": [
              "np.float64(5.0)"
            ]
          },
          "metadata": {},
          "execution_count": 52
        }
      ]
    },
    {
      "cell_type": "code",
      "source": [
        "np.min(a_array,axis=0)"
      ],
      "metadata": {
        "colab": {
          "base_uri": "https://localhost:8080/"
        },
        "id": "jzhquXI96et1",
        "outputId": "5cafa139-70fe-4ddf-eaa9-c21d84cd0313"
      },
      "execution_count": null,
      "outputs": [
        {
          "output_type": "execute_result",
          "data": {
            "text/plain": [
              "array([1, 2, 3])"
            ]
          },
          "metadata": {},
          "execution_count": 53
        }
      ]
    },
    {
      "cell_type": "markdown",
      "source": [
        "here axis 0 means it checking column wise minimum value."
      ],
      "metadata": {
        "id": "CMNffDWk6r6u"
      }
    },
    {
      "cell_type": "code",
      "source": [
        "np.min(a_array,axis=1)"
      ],
      "metadata": {
        "colab": {
          "base_uri": "https://localhost:8080/"
        },
        "id": "JTmgjO3G66V1",
        "outputId": "7c86faa8-3b78-491f-a9ef-a84871db8965"
      },
      "execution_count": null,
      "outputs": [
        {
          "output_type": "execute_result",
          "data": {
            "text/plain": [
              "array([1, 4, 7])"
            ]
          },
          "metadata": {},
          "execution_count": 54
        }
      ]
    },
    {
      "cell_type": "markdown",
      "source": [
        "here axis 1 means it is checking minimun value in row wise."
      ],
      "metadata": {
        "id": "WC91C34i69jB"
      }
    },
    {
      "cell_type": "markdown",
      "source": [
        "Similarly we can do sum, subtraction etc."
      ],
      "metadata": {
        "id": "ybBvdW5d7Pbj"
      }
    },
    {
      "cell_type": "code",
      "source": [
        "np.sum(a_array,axis=1)"
      ],
      "metadata": {
        "colab": {
          "base_uri": "https://localhost:8080/"
        },
        "id": "f8Pi1HHl7TqO",
        "outputId": "fa7f21da-a8f5-4467-8b38-a6e7ce117724"
      },
      "execution_count": null,
      "outputs": [
        {
          "output_type": "execute_result",
          "data": {
            "text/plain": [
              "array([ 6, 15, 24])"
            ]
          },
          "metadata": {},
          "execution_count": 55
        }
      ]
    },
    {
      "cell_type": "markdown",
      "source": [
        "It is row wise summing all values."
      ],
      "metadata": {
        "id": "MtFJej1g7Xsb"
      }
    },
    {
      "cell_type": "code",
      "source": [
        "#re arrange\n",
        "a = [[1,2,3],[4,5,6],[7,8,9]]\n",
        "a_array = np.array(a)\n",
        "a_array.reshape((1,9))"
      ],
      "metadata": {
        "colab": {
          "base_uri": "https://localhost:8080/"
        },
        "id": "P_cScWb87gMe",
        "outputId": "ade08d07-d769-4876-edc1-c28e81f34d1f"
      },
      "execution_count": null,
      "outputs": [
        {
          "output_type": "execute_result",
          "data": {
            "text/plain": [
              "array([[1, 2, 3, 4, 5, 6, 7, 8, 9]])"
            ]
          },
          "metadata": {},
          "execution_count": 56
        }
      ]
    },
    {
      "cell_type": "markdown",
      "source": [
        "here we have re arranged the matrix we changed the rows to 1 and columns to 9."
      ],
      "metadata": {
        "id": "uXAlbT8L7sOl"
      }
    },
    {
      "cell_type": "code",
      "source": [
        "# merging rows\n",
        "a_array1=np.full((2,3),9,dtype='int32')\n",
        "a_array2=np.full((2,3),5,dtype='int32')\n",
        "print(a_array1)\n",
        "print(a_array2)\n",
        "a_array1+a_array2"
      ],
      "metadata": {
        "colab": {
          "base_uri": "https://localhost:8080/"
        },
        "id": "5V0ytdXU7y3f",
        "outputId": "95473840-7f06-4e1c-ae1c-c0479e7fd41d"
      },
      "execution_count": null,
      "outputs": [
        {
          "output_type": "stream",
          "name": "stdout",
          "text": [
            "[[9 9 9]\n",
            " [9 9 9]]\n",
            "[[5 5 5]\n",
            " [5 5 5]]\n"
          ]
        },
        {
          "output_type": "execute_result",
          "data": {
            "text/plain": [
              "array([[14, 14, 14],\n",
              "       [14, 14, 14]], dtype=int32)"
            ]
          },
          "metadata": {},
          "execution_count": 57
        }
      ]
    },
    {
      "cell_type": "code",
      "source": [
        "np.vstack((a_array1,a_array2))"
      ],
      "metadata": {
        "colab": {
          "base_uri": "https://localhost:8080/"
        },
        "id": "FifPTWoB8FD0",
        "outputId": "ab9fcce8-7ced-490e-b405-6e505d77c634"
      },
      "execution_count": null,
      "outputs": [
        {
          "output_type": "execute_result",
          "data": {
            "text/plain": [
              "array([[9, 9, 9],\n",
              "       [9, 9, 9],\n",
              "       [5, 5, 5],\n",
              "       [5, 5, 5]], dtype=int32)"
            ]
          },
          "metadata": {},
          "execution_count": 58
        }
      ]
    },
    {
      "cell_type": "markdown",
      "source": [
        "we have vertically stacked the matrix."
      ],
      "metadata": {
        "id": "7UvI5Z3f8Sp3"
      }
    },
    {
      "cell_type": "code",
      "source": [
        "np.hstack((a_array1,a_array2))"
      ],
      "metadata": {
        "colab": {
          "base_uri": "https://localhost:8080/"
        },
        "id": "N8icqBPl8XNb",
        "outputId": "c629c60e-43e3-4649-b15c-bd9a0497799d"
      },
      "execution_count": null,
      "outputs": [
        {
          "output_type": "execute_result",
          "data": {
            "text/plain": [
              "array([[9, 9, 9, 5, 5, 5],\n",
              "       [9, 9, 9, 5, 5, 5]], dtype=int32)"
            ]
          },
          "metadata": {},
          "execution_count": 59
        }
      ]
    },
    {
      "cell_type": "markdown",
      "source": [
        "Here it has horizontally stacked the matrix."
      ],
      "metadata": {
        "id": "wknjAbEu8aa_"
      }
    },
    {
      "cell_type": "code",
      "metadata": {
        "id": "770ab201"
      },
      "source": [
        "# Create a dummy file for demonstration\n",
        "with open('readnp.txt', 'w') as f:\n",
        "    f.write('1,2,3\\n4,5,6\\n7,8,9')"
      ],
      "execution_count": null,
      "outputs": []
    },
    {
      "cell_type": "code",
      "source": [
        "#create array from a file\n",
        "f=np.genfromtxt('readnp.txt',dtype='int32',delimiter=',')\n",
        "f"
      ],
      "metadata": {
        "colab": {
          "base_uri": "https://localhost:8080/"
        },
        "id": "T5gLzAee9IjS",
        "outputId": "268c487b-1243-4a42-ec9a-4a94d26ee6c7"
      },
      "execution_count": null,
      "outputs": [
        {
          "output_type": "execute_result",
          "data": {
            "text/plain": [
              "array([[1, 2, 3],\n",
              "       [4, 5, 6],\n",
              "       [7, 8, 9]], dtype=int32)"
            ]
          },
          "metadata": {},
          "execution_count": 62
        }
      ]
    },
    {
      "cell_type": "markdown",
      "source": [
        "here we have extracted the data from the file."
      ],
      "metadata": {
        "id": "wI5xYKNV9OSi"
      }
    },
    {
      "cell_type": "code",
      "source": [
        "#advanve indexing\n",
        "f<8"
      ],
      "metadata": {
        "colab": {
          "base_uri": "https://localhost:8080/"
        },
        "id": "rvV5BPdD9Ut5",
        "outputId": "21338b37-777c-451c-bd85-f97ff5cb2f3b"
      },
      "execution_count": null,
      "outputs": [
        {
          "output_type": "execute_result",
          "data": {
            "text/plain": [
              "array([[ True,  True,  True],\n",
              "       [ True,  True,  True],\n",
              "       [ True, False, False]])"
            ]
          },
          "metadata": {},
          "execution_count": 63
        }
      ]
    },
    {
      "cell_type": "markdown",
      "source": [
        "Here we are checking which values are less than 8. where is it les it returns true else false."
      ],
      "metadata": {
        "id": "jj2Tgxuc9mGa"
      }
    },
    {
      "cell_type": "code",
      "source": [
        "f<8\n",
        "f[f<8]"
      ],
      "metadata": {
        "colab": {
          "base_uri": "https://localhost:8080/"
        },
        "id": "MPTzG0Pi9t1D",
        "outputId": "8440e527-275b-4b4b-c794-178c96ff8ea4"
      },
      "execution_count": null,
      "outputs": [
        {
          "output_type": "execute_result",
          "data": {
            "text/plain": [
              "array([1, 2, 3, 4, 5, 6, 7], dtype=int32)"
            ]
          },
          "metadata": {},
          "execution_count": 64
        }
      ]
    },
    {
      "cell_type": "markdown",
      "source": [
        "here we put the condition to only return values where there is true."
      ],
      "metadata": {
        "id": "7GSyjj_T94VM"
      }
    },
    {
      "cell_type": "code",
      "source": [
        "#advanve indexing\n",
        "#f<8\n",
        "#f[f<8]\n",
        "f[(f>5) & (f<10)]"
      ],
      "metadata": {
        "colab": {
          "base_uri": "https://localhost:8080/"
        },
        "id": "ygMdSoNv9-XE",
        "outputId": "995480ef-dcb0-42a5-98f7-cc3e4a82887b"
      },
      "execution_count": null,
      "outputs": [
        {
          "output_type": "execute_result",
          "data": {
            "text/plain": [
              "array([6, 7, 8, 9], dtype=int32)"
            ]
          },
          "metadata": {},
          "execution_count": 68
        }
      ]
    },
    {
      "cell_type": "markdown",
      "source": [
        "we have put another condition check that values should be greater than 5 but less than 8."
      ],
      "metadata": {
        "id": "fYBI4Eha-mSn"
      }
    },
    {
      "cell_type": "code",
      "source": [
        "f[(f>5) | (f<10)]"
      ],
      "metadata": {
        "colab": {
          "base_uri": "https://localhost:8080/"
        },
        "id": "ETGMip4W-uLg",
        "outputId": "fb818525-5ed8-465d-ec04-3f7210992866"
      },
      "execution_count": null,
      "outputs": [
        {
          "output_type": "execute_result",
          "data": {
            "text/plain": [
              "array([1, 2, 3, 4, 5, 6, 7, 8, 9], dtype=int32)"
            ]
          },
          "metadata": {},
          "execution_count": 70
        }
      ]
    },
    {
      "cell_type": "markdown",
      "source": [
        "SO here we performed the or condition."
      ],
      "metadata": {
        "id": "kX-SLuke-yJi"
      }
    }
  ]
}